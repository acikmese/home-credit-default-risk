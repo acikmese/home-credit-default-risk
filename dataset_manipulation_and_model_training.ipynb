{
 "cells": [
  {
   "cell_type": "markdown",
   "metadata": {},
   "source": [
    "# Libraries"
   ]
  },
  {
   "cell_type": "code",
   "execution_count": 1,
   "metadata": {
    "ExecuteTime": {
     "end_time": "2018-09-02T15:49:51.959209Z",
     "start_time": "2018-09-02T15:49:51.954599Z"
    }
   },
   "outputs": [],
   "source": [
    "import warnings\n",
    "warnings.filterwarnings('ignore')"
   ]
  },
  {
   "cell_type": "code",
   "execution_count": 51,
   "metadata": {
    "ExecuteTime": {
     "end_time": "2018-09-02T18:40:20.387125Z",
     "start_time": "2018-09-02T18:40:19.819087Z"
    }
   },
   "outputs": [
    {
     "name": "stdout",
     "output_type": "stream",
     "text": [
      "Python 3.6.5 :: Anaconda, Inc.\r\n"
     ]
    }
   ],
   "source": [
    "import sys\n",
    "import os\n",
    "import numpy as np\n",
    "import pandas as pd\n",
    "import matplotlib.pyplot as plt\n",
    "#plt.rcParams['figure.figsize'] = [10, 5]\n",
    "import seaborn as sns\n",
    "from sklearn.preprocessing import LabelEncoder\n",
    "import missingno as msno\n",
    "import pandas_profiling\n",
    "\n",
    "%matplotlib inline\n",
    "\n",
    "!python --version\n",
    "\n",
    "from sklearn.model_selection import train_test_split\n",
    "from sklearn import preprocessing\n",
    "from sklearn import cross_validation\n",
    "from sklearn import metrics"
   ]
  },
  {
   "cell_type": "code",
   "execution_count": 3,
   "metadata": {
    "ExecuteTime": {
     "end_time": "2018-09-02T15:49:53.046526Z",
     "start_time": "2018-09-02T15:49:53.042824Z"
    }
   },
   "outputs": [],
   "source": [
    "## Show all rows and columns instead of showing only some part and hiding other parts for large data.\n",
    "def show_full_data(data, row_size=None, column_size=None):\n",
    "    with pd.option_context('display.max_rows', row_size, 'display.max_columns', column_size):\n",
    "        display(data)"
   ]
  },
  {
   "cell_type": "markdown",
   "metadata": {},
   "source": [
    "# Import Data"
   ]
  },
  {
   "cell_type": "code",
   "execution_count": 4,
   "metadata": {
    "ExecuteTime": {
     "end_time": "2018-09-02T15:50:21.244289Z",
     "start_time": "2018-09-02T15:49:53.049315Z"
    }
   },
   "outputs": [
    {
     "name": "stdout",
     "output_type": "stream",
     "text": [
      "(307511, 714)\n",
      "(48744, 713)\n"
     ]
    }
   ],
   "source": [
    "train = pd.read_csv('datasets/train.csv')\n",
    "test = pd.read_csv('datasets/test.csv')\n",
    "print(train.shape)\n",
    "print(test.shape)"
   ]
  },
  {
   "cell_type": "markdown",
   "metadata": {},
   "source": [
    "# Saving TARGET values and Column names"
   ]
  },
  {
   "cell_type": "code",
   "execution_count": 5,
   "metadata": {
    "ExecuteTime": {
     "end_time": "2018-09-02T15:50:21.253824Z",
     "start_time": "2018-09-02T15:50:21.246316Z"
    }
   },
   "outputs": [
    {
     "data": {
      "text/plain": [
       "(307511,)"
      ]
     },
     "execution_count": 5,
     "metadata": {},
     "output_type": "execute_result"
    }
   ],
   "source": [
    "# Copying labels to not lose them and use later\n",
    "train_labels = train.TARGET.copy()\n",
    "train_labels.shape"
   ]
  },
  {
   "cell_type": "code",
   "execution_count": 6,
   "metadata": {
    "ExecuteTime": {
     "end_time": "2018-09-02T15:50:21.260013Z",
     "start_time": "2018-09-02T15:50:21.256075Z"
    }
   },
   "outputs": [],
   "source": [
    "# Saving IDs \n",
    "train_id = train.SK_ID_CURR.copy()\n",
    "test_id = test.SK_ID_CURR.copy()"
   ]
  },
  {
   "cell_type": "code",
   "execution_count": 7,
   "metadata": {
    "ExecuteTime": {
     "end_time": "2018-09-02T15:50:22.117837Z",
     "start_time": "2018-09-02T15:50:21.261927Z"
    }
   },
   "outputs": [
    {
     "data": {
      "text/plain": [
       "(307511, 713)"
      ]
     },
     "execution_count": 7,
     "metadata": {},
     "output_type": "execute_result"
    }
   ],
   "source": [
    "train.drop(columns='TARGET', inplace=True)\n",
    "train.shape"
   ]
  },
  {
   "cell_type": "code",
   "execution_count": 8,
   "metadata": {
    "ExecuteTime": {
     "end_time": "2018-09-02T15:50:22.126157Z",
     "start_time": "2018-09-02T15:50:22.120945Z"
    }
   },
   "outputs": [
    {
     "data": {
      "text/plain": [
       "(713,)"
      ]
     },
     "execution_count": 8,
     "metadata": {},
     "output_type": "execute_result"
    }
   ],
   "source": [
    "# Extracting column names to not lose them\n",
    "column_names = train.columns.copy()\n",
    "column_names.shape"
   ]
  },
  {
   "cell_type": "markdown",
   "metadata": {},
   "source": [
    "## Imputing missing values"
   ]
  },
  {
   "cell_type": "markdown",
   "metadata": {},
   "source": [
    "Even if we dropped some features before we create our dataset, there are some missing values in our dateset. Scikit-Learn algorithms generally does not work with missing values. If we want to use scaling algorithms, the algorithm probably gives error. Also, most algorithms (lightgbm works) does not work with NaN values. Therefore, if we want to use our dataset, we should find a solution for our NaN values.  \n",
    "  \n",
    "Imputer from Scikit performs different methods to fill NaN values. I use mean strategy to calculate mean of the values and fill NaN values with this algorithm.  I do this for train and test data because if we want to make predictions on test data, test data should not have NaN values."
   ]
  },
  {
   "cell_type": "markdown",
   "metadata": {},
   "source": [
    "### Train"
   ]
  },
  {
   "cell_type": "code",
   "execution_count": 9,
   "metadata": {
    "ExecuteTime": {
     "end_time": "2018-09-02T15:50:22.132137Z",
     "start_time": "2018-09-02T15:50:22.129059Z"
    }
   },
   "outputs": [],
   "source": [
    "from sklearn.preprocessing import Imputer"
   ]
  },
  {
   "cell_type": "code",
   "execution_count": 10,
   "metadata": {
    "ExecuteTime": {
     "end_time": "2018-09-02T15:50:27.135581Z",
     "start_time": "2018-09-02T15:50:22.134662Z"
    }
   },
   "outputs": [
    {
     "name": "stderr",
     "output_type": "stream",
     "text": [
      "/home/ealptekin/anaconda3/envs/yasin-tf/lib/python3.6/site-packages/sklearn/preprocessing/imputation.py:347: UserWarning: Deleting features without observed values: [380 381]\n",
      "  \"observed values: %s\" % missing)\n"
     ]
    }
   ],
   "source": [
    "# Create our imputer to replace missing values with the mean e.g.\n",
    "imp = Imputer(missing_values='NaN', strategy='mean', axis=0, verbose=1)\n",
    "imp = imp.fit(train)\n",
    "# Impute our data, then train\n",
    "train_imp = imp.transform(train)"
   ]
  },
  {
   "cell_type": "code",
   "execution_count": 11,
   "metadata": {
    "ExecuteTime": {
     "end_time": "2018-09-02T15:50:27.140361Z",
     "start_time": "2018-09-02T15:50:27.137800Z"
    }
   },
   "outputs": [],
   "source": [
    "# Choosing dropped columns during imputing.\n",
    "nanmask = np.isnan(imp.statistics_)"
   ]
  },
  {
   "cell_type": "code",
   "execution_count": 12,
   "metadata": {
    "ExecuteTime": {
     "end_time": "2018-09-02T15:50:27.146422Z",
     "start_time": "2018-09-02T15:50:27.141984Z"
    }
   },
   "outputs": [
    {
     "data": {
      "text/plain": [
       "(array([380, 381]),)"
      ]
     },
     "execution_count": 12,
     "metadata": {},
     "output_type": "execute_result"
    }
   ],
   "source": [
    "np.where(nanmask==True)"
   ]
  },
  {
   "cell_type": "code",
   "execution_count": 13,
   "metadata": {
    "ExecuteTime": {
     "end_time": "2018-09-02T15:50:27.151679Z",
     "start_time": "2018-09-02T15:50:27.147892Z"
    }
   },
   "outputs": [
    {
     "data": {
      "text/plain": [
       "array(['previous_app/credit_mean', 'previous_app/credit_max'],\n",
       "      dtype=object)"
      ]
     },
     "execution_count": 13,
     "metadata": {},
     "output_type": "execute_result"
    }
   ],
   "source": [
    "# Names of dropped columns.\n",
    "column_names.values[380:382]"
   ]
  },
  {
   "cell_type": "markdown",
   "metadata": {},
   "source": [
    "These 2 columns are dropped because they cannot be filled."
   ]
  },
  {
   "cell_type": "code",
   "execution_count": 14,
   "metadata": {
    "ExecuteTime": {
     "end_time": "2018-09-02T15:50:27.156102Z",
     "start_time": "2018-09-02T15:50:27.153081Z"
    }
   },
   "outputs": [],
   "source": [
    "column_names_imp = column_names.values\n",
    "column_names_imp = np.delete(column_names_imp, [380, 381])"
   ]
  },
  {
   "cell_type": "markdown",
   "metadata": {
    "run_control": {
     "marked": true
    }
   },
   "source": [
    "We also drop these columns from column names to equalize the size of columns and column names."
   ]
  },
  {
   "cell_type": "code",
   "execution_count": 15,
   "metadata": {
    "ExecuteTime": {
     "end_time": "2018-09-02T15:50:27.182416Z",
     "start_time": "2018-09-02T15:50:27.157596Z"
    }
   },
   "outputs": [
    {
     "name": "stdout",
     "output_type": "stream",
     "text": [
      "(307511, 711)\n"
     ]
    },
    {
     "data": {
      "text/html": [
       "<div>\n",
       "<style scoped>\n",
       "    .dataframe tbody tr th:only-of-type {\n",
       "        vertical-align: middle;\n",
       "    }\n",
       "\n",
       "    .dataframe tbody tr th {\n",
       "        vertical-align: top;\n",
       "    }\n",
       "\n",
       "    .dataframe thead th {\n",
       "        text-align: right;\n",
       "    }\n",
       "</style>\n",
       "<table border=\"1\" class=\"dataframe\">\n",
       "  <thead>\n",
       "    <tr style=\"text-align: right;\">\n",
       "      <th></th>\n",
       "      <th>0</th>\n",
       "      <th>1</th>\n",
       "      <th>2</th>\n",
       "      <th>3</th>\n",
       "      <th>4</th>\n",
       "      <th>5</th>\n",
       "      <th>6</th>\n",
       "      <th>7</th>\n",
       "      <th>8</th>\n",
       "      <th>9</th>\n",
       "      <th>...</th>\n",
       "      <th>701</th>\n",
       "      <th>702</th>\n",
       "      <th>703</th>\n",
       "      <th>704</th>\n",
       "      <th>705</th>\n",
       "      <th>706</th>\n",
       "      <th>707</th>\n",
       "      <th>708</th>\n",
       "      <th>709</th>\n",
       "      <th>710</th>\n",
       "    </tr>\n",
       "  </thead>\n",
       "  <tbody>\n",
       "    <tr>\n",
       "      <th>0</th>\n",
       "      <td>100002.0</td>\n",
       "      <td>0.0</td>\n",
       "      <td>0.0</td>\n",
       "      <td>1.0</td>\n",
       "      <td>0.0</td>\n",
       "      <td>202500.0</td>\n",
       "      <td>406597.5</td>\n",
       "      <td>24700.5</td>\n",
       "      <td>351000.0</td>\n",
       "      <td>0.018801</td>\n",
       "      <td>...</td>\n",
       "      <td>0.000000</td>\n",
       "      <td>0.000000</td>\n",
       "      <td>0.000000</td>\n",
       "      <td>0.000000e+00</td>\n",
       "      <td>0.000000</td>\n",
       "      <td>-20.421053</td>\n",
       "      <td>-12.0000</td>\n",
       "      <td>-31.000000</td>\n",
       "      <td>24.257310</td>\n",
       "      <td>-388.000000</td>\n",
       "    </tr>\n",
       "    <tr>\n",
       "      <th>1</th>\n",
       "      <td>100003.0</td>\n",
       "      <td>0.0</td>\n",
       "      <td>0.0</td>\n",
       "      <td>0.0</td>\n",
       "      <td>0.0</td>\n",
       "      <td>270000.0</td>\n",
       "      <td>1293502.5</td>\n",
       "      <td>35698.5</td>\n",
       "      <td>1129500.0</td>\n",
       "      <td>0.003541</td>\n",
       "      <td>...</td>\n",
       "      <td>0.000000</td>\n",
       "      <td>0.000000</td>\n",
       "      <td>0.000000</td>\n",
       "      <td>0.000000e+00</td>\n",
       "      <td>0.000000</td>\n",
       "      <td>-7.160000</td>\n",
       "      <td>-1.0000</td>\n",
       "      <td>-14.000000</td>\n",
       "      <td>13.890000</td>\n",
       "      <td>-179.000000</td>\n",
       "    </tr>\n",
       "    <tr>\n",
       "      <th>2</th>\n",
       "      <td>100004.0</td>\n",
       "      <td>1.0</td>\n",
       "      <td>1.0</td>\n",
       "      <td>1.0</td>\n",
       "      <td>0.0</td>\n",
       "      <td>67500.0</td>\n",
       "      <td>135000.0</td>\n",
       "      <td>6750.0</td>\n",
       "      <td>135000.0</td>\n",
       "      <td>0.010032</td>\n",
       "      <td>...</td>\n",
       "      <td>0.000000</td>\n",
       "      <td>0.000000</td>\n",
       "      <td>0.000000</td>\n",
       "      <td>0.000000e+00</td>\n",
       "      <td>0.000000</td>\n",
       "      <td>-7.666667</td>\n",
       "      <td>-3.0000</td>\n",
       "      <td>-11.000000</td>\n",
       "      <td>17.333333</td>\n",
       "      <td>-23.000000</td>\n",
       "    </tr>\n",
       "    <tr>\n",
       "      <th>3</th>\n",
       "      <td>100006.0</td>\n",
       "      <td>0.0</td>\n",
       "      <td>0.0</td>\n",
       "      <td>1.0</td>\n",
       "      <td>0.0</td>\n",
       "      <td>135000.0</td>\n",
       "      <td>312682.5</td>\n",
       "      <td>29686.5</td>\n",
       "      <td>297000.0</td>\n",
       "      <td>0.008019</td>\n",
       "      <td>...</td>\n",
       "      <td>379.700182</td>\n",
       "      <td>24001.706113</td>\n",
       "      <td>-6797.926065</td>\n",
       "      <td>3.546386e+08</td>\n",
       "      <td>7133.394533</td>\n",
       "      <td>-11.130596</td>\n",
       "      <td>16.6321</td>\n",
       "      <td>-38.073301</td>\n",
       "      <td>787.185389</td>\n",
       "      <td>-353.020996</td>\n",
       "    </tr>\n",
       "    <tr>\n",
       "      <th>4</th>\n",
       "      <td>100007.0</td>\n",
       "      <td>0.0</td>\n",
       "      <td>0.0</td>\n",
       "      <td>1.0</td>\n",
       "      <td>0.0</td>\n",
       "      <td>121500.0</td>\n",
       "      <td>513000.0</td>\n",
       "      <td>21865.5</td>\n",
       "      <td>513000.0</td>\n",
       "      <td>0.028663</td>\n",
       "      <td>...</td>\n",
       "      <td>-452.384318</td>\n",
       "      <td>0.000000</td>\n",
       "      <td>-22655.655000</td>\n",
       "      <td>8.084830e+06</td>\n",
       "      <td>-29857.365000</td>\n",
       "      <td>-3.636364</td>\n",
       "      <td>12.0000</td>\n",
       "      <td>-31.000000</td>\n",
       "      <td>63.865734</td>\n",
       "      <td>-240.000000</td>\n",
       "    </tr>\n",
       "  </tbody>\n",
       "</table>\n",
       "<p>5 rows × 711 columns</p>\n",
       "</div>"
      ],
      "text/plain": [
       "        0    1    2    3    4         5          6        7          8    \\\n",
       "0  100002.0  0.0  0.0  1.0  0.0  202500.0   406597.5  24700.5   351000.0   \n",
       "1  100003.0  0.0  0.0  0.0  0.0  270000.0  1293502.5  35698.5  1129500.0   \n",
       "2  100004.0  1.0  1.0  1.0  0.0   67500.0   135000.0   6750.0   135000.0   \n",
       "3  100006.0  0.0  0.0  1.0  0.0  135000.0   312682.5  29686.5   297000.0   \n",
       "4  100007.0  0.0  0.0  1.0  0.0  121500.0   513000.0  21865.5   513000.0   \n",
       "\n",
       "        9       ...             701           702           703           704  \\\n",
       "0  0.018801     ...        0.000000      0.000000      0.000000  0.000000e+00   \n",
       "1  0.003541     ...        0.000000      0.000000      0.000000  0.000000e+00   \n",
       "2  0.010032     ...        0.000000      0.000000      0.000000  0.000000e+00   \n",
       "3  0.008019     ...      379.700182  24001.706113  -6797.926065  3.546386e+08   \n",
       "4  0.028663     ...     -452.384318      0.000000 -22655.655000  8.084830e+06   \n",
       "\n",
       "            705        706      707        708         709         710  \n",
       "0      0.000000 -20.421053 -12.0000 -31.000000   24.257310 -388.000000  \n",
       "1      0.000000  -7.160000  -1.0000 -14.000000   13.890000 -179.000000  \n",
       "2      0.000000  -7.666667  -3.0000 -11.000000   17.333333  -23.000000  \n",
       "3   7133.394533 -11.130596  16.6321 -38.073301  787.185389 -353.020996  \n",
       "4 -29857.365000  -3.636364  12.0000 -31.000000   63.865734 -240.000000  \n",
       "\n",
       "[5 rows x 711 columns]"
      ]
     },
     "execution_count": 15,
     "metadata": {},
     "output_type": "execute_result"
    }
   ],
   "source": [
    "train_imp = pd.DataFrame(train_imp)\n",
    "print(train_imp.shape)\n",
    "train_imp.head()"
   ]
  },
  {
   "cell_type": "code",
   "execution_count": 16,
   "metadata": {
    "ExecuteTime": {
     "end_time": "2018-09-02T15:50:27.202672Z",
     "start_time": "2018-09-02T15:50:27.183938Z"
    }
   },
   "outputs": [
    {
     "data": {
      "text/html": [
       "<div>\n",
       "<style scoped>\n",
       "    .dataframe tbody tr th:only-of-type {\n",
       "        vertical-align: middle;\n",
       "    }\n",
       "\n",
       "    .dataframe tbody tr th {\n",
       "        vertical-align: top;\n",
       "    }\n",
       "\n",
       "    .dataframe thead th {\n",
       "        text-align: right;\n",
       "    }\n",
       "</style>\n",
       "<table border=\"1\" class=\"dataframe\">\n",
       "  <thead>\n",
       "    <tr style=\"text-align: right;\">\n",
       "      <th></th>\n",
       "      <th>SK_ID_CURR</th>\n",
       "      <th>NAME_CONTRACT_TYPE</th>\n",
       "      <th>FLAG_OWN_CAR</th>\n",
       "      <th>FLAG_OWN_REALTY</th>\n",
       "      <th>CNT_CHILDREN</th>\n",
       "      <th>AMT_INCOME_TOTAL</th>\n",
       "      <th>AMT_CREDIT</th>\n",
       "      <th>AMT_ANNUITY</th>\n",
       "      <th>AMT_GOODS_PRICE</th>\n",
       "      <th>REGION_POPULATION_RELATIVE</th>\n",
       "      <th>...</th>\n",
       "      <th>installments_AMT_PAYMENT-INSTALLMENT_mean</th>\n",
       "      <th>installments_AMT_PAYMENT-INSTALLMENT_max</th>\n",
       "      <th>installments_AMT_PAYMENT-INSTALLMENT_min</th>\n",
       "      <th>installments_AMT_PAYMENT-INSTALLMENT_var</th>\n",
       "      <th>installments_AMT_PAYMENT-INSTALLMENT_sum</th>\n",
       "      <th>installments_DAYS_PAYMENT-INSTALLMENT_mean</th>\n",
       "      <th>installments_DAYS_PAYMENT-INSTALLMENT_max</th>\n",
       "      <th>installments_DAYS_PAYMENT-INSTALLMENT_min</th>\n",
       "      <th>installments_DAYS_PAYMENT-INSTALLMENT_var</th>\n",
       "      <th>installments_DAYS_PAYMENT-INSTALLMENT_sum</th>\n",
       "    </tr>\n",
       "  </thead>\n",
       "  <tbody>\n",
       "    <tr>\n",
       "      <th>0</th>\n",
       "      <td>100002.0</td>\n",
       "      <td>0.0</td>\n",
       "      <td>0.0</td>\n",
       "      <td>1.0</td>\n",
       "      <td>0.0</td>\n",
       "      <td>202500.0</td>\n",
       "      <td>406597.5</td>\n",
       "      <td>24700.5</td>\n",
       "      <td>351000.0</td>\n",
       "      <td>0.018801</td>\n",
       "      <td>...</td>\n",
       "      <td>0.000000</td>\n",
       "      <td>0.000000</td>\n",
       "      <td>0.000000</td>\n",
       "      <td>0.000000e+00</td>\n",
       "      <td>0.000000</td>\n",
       "      <td>-20.421053</td>\n",
       "      <td>-12.0000</td>\n",
       "      <td>-31.000000</td>\n",
       "      <td>24.257310</td>\n",
       "      <td>-388.000000</td>\n",
       "    </tr>\n",
       "    <tr>\n",
       "      <th>1</th>\n",
       "      <td>100003.0</td>\n",
       "      <td>0.0</td>\n",
       "      <td>0.0</td>\n",
       "      <td>0.0</td>\n",
       "      <td>0.0</td>\n",
       "      <td>270000.0</td>\n",
       "      <td>1293502.5</td>\n",
       "      <td>35698.5</td>\n",
       "      <td>1129500.0</td>\n",
       "      <td>0.003541</td>\n",
       "      <td>...</td>\n",
       "      <td>0.000000</td>\n",
       "      <td>0.000000</td>\n",
       "      <td>0.000000</td>\n",
       "      <td>0.000000e+00</td>\n",
       "      <td>0.000000</td>\n",
       "      <td>-7.160000</td>\n",
       "      <td>-1.0000</td>\n",
       "      <td>-14.000000</td>\n",
       "      <td>13.890000</td>\n",
       "      <td>-179.000000</td>\n",
       "    </tr>\n",
       "    <tr>\n",
       "      <th>2</th>\n",
       "      <td>100004.0</td>\n",
       "      <td>1.0</td>\n",
       "      <td>1.0</td>\n",
       "      <td>1.0</td>\n",
       "      <td>0.0</td>\n",
       "      <td>67500.0</td>\n",
       "      <td>135000.0</td>\n",
       "      <td>6750.0</td>\n",
       "      <td>135000.0</td>\n",
       "      <td>0.010032</td>\n",
       "      <td>...</td>\n",
       "      <td>0.000000</td>\n",
       "      <td>0.000000</td>\n",
       "      <td>0.000000</td>\n",
       "      <td>0.000000e+00</td>\n",
       "      <td>0.000000</td>\n",
       "      <td>-7.666667</td>\n",
       "      <td>-3.0000</td>\n",
       "      <td>-11.000000</td>\n",
       "      <td>17.333333</td>\n",
       "      <td>-23.000000</td>\n",
       "    </tr>\n",
       "    <tr>\n",
       "      <th>3</th>\n",
       "      <td>100006.0</td>\n",
       "      <td>0.0</td>\n",
       "      <td>0.0</td>\n",
       "      <td>1.0</td>\n",
       "      <td>0.0</td>\n",
       "      <td>135000.0</td>\n",
       "      <td>312682.5</td>\n",
       "      <td>29686.5</td>\n",
       "      <td>297000.0</td>\n",
       "      <td>0.008019</td>\n",
       "      <td>...</td>\n",
       "      <td>379.700182</td>\n",
       "      <td>24001.706113</td>\n",
       "      <td>-6797.926065</td>\n",
       "      <td>3.546386e+08</td>\n",
       "      <td>7133.394533</td>\n",
       "      <td>-11.130596</td>\n",
       "      <td>16.6321</td>\n",
       "      <td>-38.073301</td>\n",
       "      <td>787.185389</td>\n",
       "      <td>-353.020996</td>\n",
       "    </tr>\n",
       "    <tr>\n",
       "      <th>4</th>\n",
       "      <td>100007.0</td>\n",
       "      <td>0.0</td>\n",
       "      <td>0.0</td>\n",
       "      <td>1.0</td>\n",
       "      <td>0.0</td>\n",
       "      <td>121500.0</td>\n",
       "      <td>513000.0</td>\n",
       "      <td>21865.5</td>\n",
       "      <td>513000.0</td>\n",
       "      <td>0.028663</td>\n",
       "      <td>...</td>\n",
       "      <td>-452.384318</td>\n",
       "      <td>0.000000</td>\n",
       "      <td>-22655.655000</td>\n",
       "      <td>8.084830e+06</td>\n",
       "      <td>-29857.365000</td>\n",
       "      <td>-3.636364</td>\n",
       "      <td>12.0000</td>\n",
       "      <td>-31.000000</td>\n",
       "      <td>63.865734</td>\n",
       "      <td>-240.000000</td>\n",
       "    </tr>\n",
       "  </tbody>\n",
       "</table>\n",
       "<p>5 rows × 711 columns</p>\n",
       "</div>"
      ],
      "text/plain": [
       "   SK_ID_CURR  NAME_CONTRACT_TYPE  FLAG_OWN_CAR  FLAG_OWN_REALTY  \\\n",
       "0    100002.0                 0.0           0.0              1.0   \n",
       "1    100003.0                 0.0           0.0              0.0   \n",
       "2    100004.0                 1.0           1.0              1.0   \n",
       "3    100006.0                 0.0           0.0              1.0   \n",
       "4    100007.0                 0.0           0.0              1.0   \n",
       "\n",
       "   CNT_CHILDREN  AMT_INCOME_TOTAL  AMT_CREDIT  AMT_ANNUITY  AMT_GOODS_PRICE  \\\n",
       "0           0.0          202500.0    406597.5      24700.5         351000.0   \n",
       "1           0.0          270000.0   1293502.5      35698.5        1129500.0   \n",
       "2           0.0           67500.0    135000.0       6750.0         135000.0   \n",
       "3           0.0          135000.0    312682.5      29686.5         297000.0   \n",
       "4           0.0          121500.0    513000.0      21865.5         513000.0   \n",
       "\n",
       "   REGION_POPULATION_RELATIVE                    ...                      \\\n",
       "0                    0.018801                    ...                       \n",
       "1                    0.003541                    ...                       \n",
       "2                    0.010032                    ...                       \n",
       "3                    0.008019                    ...                       \n",
       "4                    0.028663                    ...                       \n",
       "\n",
       "   installments_AMT_PAYMENT-INSTALLMENT_mean  \\\n",
       "0                                   0.000000   \n",
       "1                                   0.000000   \n",
       "2                                   0.000000   \n",
       "3                                 379.700182   \n",
       "4                                -452.384318   \n",
       "\n",
       "   installments_AMT_PAYMENT-INSTALLMENT_max  \\\n",
       "0                                  0.000000   \n",
       "1                                  0.000000   \n",
       "2                                  0.000000   \n",
       "3                              24001.706113   \n",
       "4                                  0.000000   \n",
       "\n",
       "   installments_AMT_PAYMENT-INSTALLMENT_min  \\\n",
       "0                                  0.000000   \n",
       "1                                  0.000000   \n",
       "2                                  0.000000   \n",
       "3                              -6797.926065   \n",
       "4                             -22655.655000   \n",
       "\n",
       "   installments_AMT_PAYMENT-INSTALLMENT_var  \\\n",
       "0                              0.000000e+00   \n",
       "1                              0.000000e+00   \n",
       "2                              0.000000e+00   \n",
       "3                              3.546386e+08   \n",
       "4                              8.084830e+06   \n",
       "\n",
       "   installments_AMT_PAYMENT-INSTALLMENT_sum  \\\n",
       "0                                  0.000000   \n",
       "1                                  0.000000   \n",
       "2                                  0.000000   \n",
       "3                               7133.394533   \n",
       "4                             -29857.365000   \n",
       "\n",
       "   installments_DAYS_PAYMENT-INSTALLMENT_mean  \\\n",
       "0                                  -20.421053   \n",
       "1                                   -7.160000   \n",
       "2                                   -7.666667   \n",
       "3                                  -11.130596   \n",
       "4                                   -3.636364   \n",
       "\n",
       "   installments_DAYS_PAYMENT-INSTALLMENT_max  \\\n",
       "0                                   -12.0000   \n",
       "1                                    -1.0000   \n",
       "2                                    -3.0000   \n",
       "3                                    16.6321   \n",
       "4                                    12.0000   \n",
       "\n",
       "   installments_DAYS_PAYMENT-INSTALLMENT_min  \\\n",
       "0                                 -31.000000   \n",
       "1                                 -14.000000   \n",
       "2                                 -11.000000   \n",
       "3                                 -38.073301   \n",
       "4                                 -31.000000   \n",
       "\n",
       "   installments_DAYS_PAYMENT-INSTALLMENT_var  \\\n",
       "0                                  24.257310   \n",
       "1                                  13.890000   \n",
       "2                                  17.333333   \n",
       "3                                 787.185389   \n",
       "4                                  63.865734   \n",
       "\n",
       "   installments_DAYS_PAYMENT-INSTALLMENT_sum  \n",
       "0                                -388.000000  \n",
       "1                                -179.000000  \n",
       "2                                 -23.000000  \n",
       "3                                -353.020996  \n",
       "4                                -240.000000  \n",
       "\n",
       "[5 rows x 711 columns]"
      ]
     },
     "execution_count": 16,
     "metadata": {},
     "output_type": "execute_result"
    }
   ],
   "source": [
    "train_imp.columns = column_names_imp\n",
    "train_imp.head()"
   ]
  },
  {
   "cell_type": "code",
   "execution_count": 17,
   "metadata": {
    "ExecuteTime": {
     "end_time": "2018-09-02T15:50:29.985719Z",
     "start_time": "2018-09-02T15:50:27.204087Z"
    }
   },
   "outputs": [
    {
     "data": {
      "text/plain": [
       "0"
      ]
     },
     "execution_count": 17,
     "metadata": {},
     "output_type": "execute_result"
    }
   ],
   "source": [
    "train_imp.isnull().sum().sum()"
   ]
  },
  {
   "cell_type": "markdown",
   "metadata": {
    "ExecuteTime": {
     "start_time": "2018-09-01T20:34:16.277Z"
    }
   },
   "source": [
    "We checked how many null values in our dataset. It is zero so we have completed our goal."
   ]
  },
  {
   "cell_type": "markdown",
   "metadata": {},
   "source": [
    "### Test"
   ]
  },
  {
   "cell_type": "markdown",
   "metadata": {},
   "source": [
    "We are doing similar process for test data to fill all NaN values."
   ]
  },
  {
   "cell_type": "code",
   "execution_count": 18,
   "metadata": {
    "ExecuteTime": {
     "end_time": "2018-09-02T15:50:30.680577Z",
     "start_time": "2018-09-02T15:50:29.987429Z"
    }
   },
   "outputs": [
    {
     "data": {
      "text/plain": [
       "(48744, 713)"
      ]
     },
     "execution_count": 18,
     "metadata": {},
     "output_type": "execute_result"
    }
   ],
   "source": [
    "imp = imp.fit(test)\n",
    "# Impute our data, then train\n",
    "test_imp = imp.transform(test)\n",
    "test_imp.shape"
   ]
  },
  {
   "cell_type": "code",
   "execution_count": 19,
   "metadata": {
    "ExecuteTime": {
     "end_time": "2018-09-02T15:50:30.685608Z",
     "start_time": "2018-09-02T15:50:30.682163Z"
    }
   },
   "outputs": [
    {
     "data": {
      "text/plain": [
       "(array([], dtype=int64),)"
      ]
     },
     "execution_count": 19,
     "metadata": {},
     "output_type": "execute_result"
    }
   ],
   "source": [
    "nanmask_test = np.isnan(imp.statistics_)\n",
    "np.where(nanmask_test==True)"
   ]
  },
  {
   "cell_type": "code",
   "execution_count": 20,
   "metadata": {
    "ExecuteTime": {
     "end_time": "2018-09-02T15:50:30.765113Z",
     "start_time": "2018-09-02T15:50:30.687217Z"
    }
   },
   "outputs": [
    {
     "data": {
      "text/plain": [
       "(48744, 711)"
      ]
     },
     "execution_count": 20,
     "metadata": {},
     "output_type": "execute_result"
    }
   ],
   "source": [
    "test_imp = np.delete(test_imp, [380, 381], axis=1)\n",
    "test_imp.shape"
   ]
  },
  {
   "cell_type": "code",
   "execution_count": 21,
   "metadata": {
    "ExecuteTime": {
     "end_time": "2018-09-02T15:50:30.788177Z",
     "start_time": "2018-09-02T15:50:30.766681Z"
    }
   },
   "outputs": [
    {
     "data": {
      "text/html": [
       "<div>\n",
       "<style scoped>\n",
       "    .dataframe tbody tr th:only-of-type {\n",
       "        vertical-align: middle;\n",
       "    }\n",
       "\n",
       "    .dataframe tbody tr th {\n",
       "        vertical-align: top;\n",
       "    }\n",
       "\n",
       "    .dataframe thead th {\n",
       "        text-align: right;\n",
       "    }\n",
       "</style>\n",
       "<table border=\"1\" class=\"dataframe\">\n",
       "  <thead>\n",
       "    <tr style=\"text-align: right;\">\n",
       "      <th></th>\n",
       "      <th>SK_ID_CURR</th>\n",
       "      <th>NAME_CONTRACT_TYPE</th>\n",
       "      <th>FLAG_OWN_CAR</th>\n",
       "      <th>FLAG_OWN_REALTY</th>\n",
       "      <th>CNT_CHILDREN</th>\n",
       "      <th>AMT_INCOME_TOTAL</th>\n",
       "      <th>AMT_CREDIT</th>\n",
       "      <th>AMT_ANNUITY</th>\n",
       "      <th>AMT_GOODS_PRICE</th>\n",
       "      <th>REGION_POPULATION_RELATIVE</th>\n",
       "      <th>...</th>\n",
       "      <th>installments_AMT_PAYMENT-INSTALLMENT_mean</th>\n",
       "      <th>installments_AMT_PAYMENT-INSTALLMENT_max</th>\n",
       "      <th>installments_AMT_PAYMENT-INSTALLMENT_min</th>\n",
       "      <th>installments_AMT_PAYMENT-INSTALLMENT_var</th>\n",
       "      <th>installments_AMT_PAYMENT-INSTALLMENT_sum</th>\n",
       "      <th>installments_DAYS_PAYMENT-INSTALLMENT_mean</th>\n",
       "      <th>installments_DAYS_PAYMENT-INSTALLMENT_max</th>\n",
       "      <th>installments_DAYS_PAYMENT-INSTALLMENT_min</th>\n",
       "      <th>installments_DAYS_PAYMENT-INSTALLMENT_var</th>\n",
       "      <th>installments_DAYS_PAYMENT-INSTALLMENT_sum</th>\n",
       "    </tr>\n",
       "  </thead>\n",
       "  <tbody>\n",
       "    <tr>\n",
       "      <th>0</th>\n",
       "      <td>100001.0</td>\n",
       "      <td>0.0</td>\n",
       "      <td>0.0</td>\n",
       "      <td>1.0</td>\n",
       "      <td>0.0</td>\n",
       "      <td>135000.0</td>\n",
       "      <td>568800.0</td>\n",
       "      <td>20560.5</td>\n",
       "      <td>450000.0</td>\n",
       "      <td>0.018850</td>\n",
       "      <td>...</td>\n",
       "      <td>0.000000</td>\n",
       "      <td>0.000000</td>\n",
       "      <td>0.000000</td>\n",
       "      <td>0.000000e+00</td>\n",
       "      <td>0.000000</td>\n",
       "      <td>-7.285714</td>\n",
       "      <td>11.000000</td>\n",
       "      <td>-36.000000</td>\n",
       "      <td>213.904762</td>\n",
       "      <td>-51.000000</td>\n",
       "    </tr>\n",
       "    <tr>\n",
       "      <th>1</th>\n",
       "      <td>100005.0</td>\n",
       "      <td>0.0</td>\n",
       "      <td>0.0</td>\n",
       "      <td>1.0</td>\n",
       "      <td>0.0</td>\n",
       "      <td>99000.0</td>\n",
       "      <td>222768.0</td>\n",
       "      <td>17370.0</td>\n",
       "      <td>180000.0</td>\n",
       "      <td>0.035792</td>\n",
       "      <td>...</td>\n",
       "      <td>0.000000</td>\n",
       "      <td>0.000000</td>\n",
       "      <td>0.000000</td>\n",
       "      <td>0.000000e+00</td>\n",
       "      <td>0.000000</td>\n",
       "      <td>-23.555556</td>\n",
       "      <td>1.000000</td>\n",
       "      <td>-37.000000</td>\n",
       "      <td>182.527778</td>\n",
       "      <td>-212.000000</td>\n",
       "    </tr>\n",
       "    <tr>\n",
       "      <th>2</th>\n",
       "      <td>100013.0</td>\n",
       "      <td>0.0</td>\n",
       "      <td>1.0</td>\n",
       "      <td>1.0</td>\n",
       "      <td>0.0</td>\n",
       "      <td>202500.0</td>\n",
       "      <td>663264.0</td>\n",
       "      <td>69777.0</td>\n",
       "      <td>630000.0</td>\n",
       "      <td>0.019101</td>\n",
       "      <td>...</td>\n",
       "      <td>-1157.662742</td>\n",
       "      <td>0.000000</td>\n",
       "      <td>-23147.820000</td>\n",
       "      <td>2.346772e+07</td>\n",
       "      <td>-179437.725000</td>\n",
       "      <td>-5.180645</td>\n",
       "      <td>21.000000</td>\n",
       "      <td>-38.000000</td>\n",
       "      <td>127.200922</td>\n",
       "      <td>-803.000000</td>\n",
       "    </tr>\n",
       "    <tr>\n",
       "      <th>3</th>\n",
       "      <td>100028.0</td>\n",
       "      <td>0.0</td>\n",
       "      <td>0.0</td>\n",
       "      <td>1.0</td>\n",
       "      <td>2.0</td>\n",
       "      <td>315000.0</td>\n",
       "      <td>1575000.0</td>\n",
       "      <td>49018.5</td>\n",
       "      <td>1575000.0</td>\n",
       "      <td>0.026392</td>\n",
       "      <td>...</td>\n",
       "      <td>-622.550708</td>\n",
       "      <td>0.000000</td>\n",
       "      <td>-8505.000000</td>\n",
       "      <td>2.972476e+06</td>\n",
       "      <td>-70348.230000</td>\n",
       "      <td>-3.000000</td>\n",
       "      <td>7.000000</td>\n",
       "      <td>-19.000000</td>\n",
       "      <td>26.678571</td>\n",
       "      <td>-339.000000</td>\n",
       "    </tr>\n",
       "    <tr>\n",
       "      <th>4</th>\n",
       "      <td>100038.0</td>\n",
       "      <td>0.0</td>\n",
       "      <td>1.0</td>\n",
       "      <td>0.0</td>\n",
       "      <td>1.0</td>\n",
       "      <td>180000.0</td>\n",
       "      <td>625500.0</td>\n",
       "      <td>32067.0</td>\n",
       "      <td>625500.0</td>\n",
       "      <td>0.010032</td>\n",
       "      <td>...</td>\n",
       "      <td>571.951414</td>\n",
       "      <td>28566.898614</td>\n",
       "      <td>-7136.377516</td>\n",
       "      <td>3.803835e+08</td>\n",
       "      <td>15742.302464</td>\n",
       "      <td>-11.552455</td>\n",
       "      <td>12.531942</td>\n",
       "      <td>-38.759448</td>\n",
       "      <td>544.772430</td>\n",
       "      <td>-381.936021</td>\n",
       "    </tr>\n",
       "  </tbody>\n",
       "</table>\n",
       "<p>5 rows × 711 columns</p>\n",
       "</div>"
      ],
      "text/plain": [
       "   SK_ID_CURR  NAME_CONTRACT_TYPE  FLAG_OWN_CAR  FLAG_OWN_REALTY  \\\n",
       "0    100001.0                 0.0           0.0              1.0   \n",
       "1    100005.0                 0.0           0.0              1.0   \n",
       "2    100013.0                 0.0           1.0              1.0   \n",
       "3    100028.0                 0.0           0.0              1.0   \n",
       "4    100038.0                 0.0           1.0              0.0   \n",
       "\n",
       "   CNT_CHILDREN  AMT_INCOME_TOTAL  AMT_CREDIT  AMT_ANNUITY  AMT_GOODS_PRICE  \\\n",
       "0           0.0          135000.0    568800.0      20560.5         450000.0   \n",
       "1           0.0           99000.0    222768.0      17370.0         180000.0   \n",
       "2           0.0          202500.0    663264.0      69777.0         630000.0   \n",
       "3           2.0          315000.0   1575000.0      49018.5        1575000.0   \n",
       "4           1.0          180000.0    625500.0      32067.0         625500.0   \n",
       "\n",
       "   REGION_POPULATION_RELATIVE                    ...                      \\\n",
       "0                    0.018850                    ...                       \n",
       "1                    0.035792                    ...                       \n",
       "2                    0.019101                    ...                       \n",
       "3                    0.026392                    ...                       \n",
       "4                    0.010032                    ...                       \n",
       "\n",
       "   installments_AMT_PAYMENT-INSTALLMENT_mean  \\\n",
       "0                                   0.000000   \n",
       "1                                   0.000000   \n",
       "2                               -1157.662742   \n",
       "3                                -622.550708   \n",
       "4                                 571.951414   \n",
       "\n",
       "   installments_AMT_PAYMENT-INSTALLMENT_max  \\\n",
       "0                                  0.000000   \n",
       "1                                  0.000000   \n",
       "2                                  0.000000   \n",
       "3                                  0.000000   \n",
       "4                              28566.898614   \n",
       "\n",
       "   installments_AMT_PAYMENT-INSTALLMENT_min  \\\n",
       "0                                  0.000000   \n",
       "1                                  0.000000   \n",
       "2                             -23147.820000   \n",
       "3                              -8505.000000   \n",
       "4                              -7136.377516   \n",
       "\n",
       "   installments_AMT_PAYMENT-INSTALLMENT_var  \\\n",
       "0                              0.000000e+00   \n",
       "1                              0.000000e+00   \n",
       "2                              2.346772e+07   \n",
       "3                              2.972476e+06   \n",
       "4                              3.803835e+08   \n",
       "\n",
       "   installments_AMT_PAYMENT-INSTALLMENT_sum  \\\n",
       "0                                  0.000000   \n",
       "1                                  0.000000   \n",
       "2                            -179437.725000   \n",
       "3                             -70348.230000   \n",
       "4                              15742.302464   \n",
       "\n",
       "   installments_DAYS_PAYMENT-INSTALLMENT_mean  \\\n",
       "0                                   -7.285714   \n",
       "1                                  -23.555556   \n",
       "2                                   -5.180645   \n",
       "3                                   -3.000000   \n",
       "4                                  -11.552455   \n",
       "\n",
       "   installments_DAYS_PAYMENT-INSTALLMENT_max  \\\n",
       "0                                  11.000000   \n",
       "1                                   1.000000   \n",
       "2                                  21.000000   \n",
       "3                                   7.000000   \n",
       "4                                  12.531942   \n",
       "\n",
       "   installments_DAYS_PAYMENT-INSTALLMENT_min  \\\n",
       "0                                 -36.000000   \n",
       "1                                 -37.000000   \n",
       "2                                 -38.000000   \n",
       "3                                 -19.000000   \n",
       "4                                 -38.759448   \n",
       "\n",
       "   installments_DAYS_PAYMENT-INSTALLMENT_var  \\\n",
       "0                                 213.904762   \n",
       "1                                 182.527778   \n",
       "2                                 127.200922   \n",
       "3                                  26.678571   \n",
       "4                                 544.772430   \n",
       "\n",
       "   installments_DAYS_PAYMENT-INSTALLMENT_sum  \n",
       "0                                 -51.000000  \n",
       "1                                -212.000000  \n",
       "2                                -803.000000  \n",
       "3                                -339.000000  \n",
       "4                                -381.936021  \n",
       "\n",
       "[5 rows x 711 columns]"
      ]
     },
     "execution_count": 21,
     "metadata": {},
     "output_type": "execute_result"
    }
   ],
   "source": [
    "test_imp = pd.DataFrame(test_imp)\n",
    "test_imp.columns = column_names_imp\n",
    "test_imp.head()"
   ]
  },
  {
   "cell_type": "code",
   "execution_count": 22,
   "metadata": {
    "ExecuteTime": {
     "end_time": "2018-09-02T15:50:31.167216Z",
     "start_time": "2018-09-02T15:50:30.789780Z"
    }
   },
   "outputs": [
    {
     "data": {
      "text/plain": [
       "0"
      ]
     },
     "execution_count": 22,
     "metadata": {},
     "output_type": "execute_result"
    }
   ],
   "source": [
    "test_imp.isnull().sum().sum()"
   ]
  },
  {
   "cell_type": "code",
   "execution_count": 23,
   "metadata": {
    "ExecuteTime": {
     "end_time": "2018-09-02T15:50:32.207629Z",
     "start_time": "2018-09-02T15:50:31.168870Z"
    }
   },
   "outputs": [],
   "source": [
    "train_imp = train_imp.drop(columns='SK_ID_CURR')\n",
    "test_imp = test_imp.drop(columns='SK_ID_CURR')"
   ]
  },
  {
   "cell_type": "markdown",
   "metadata": {},
   "source": [
    "# Sampling Data"
   ]
  },
  {
   "cell_type": "markdown",
   "metadata": {},
   "source": [
    "- There are a lot of models for classification problems. Some models like deep neural networks have high performance but they need high performance computers. In this problem, because of I am using a laptop to make computations, I would like to try less computationally expensive model.\n",
    "- Moreover, we have imbalanced dataset; one class has way less instances than other one. Risky instances (TARGET=1) are rare instances in our dataset. There are different approaches like undersampling and oversampling to overcome this problem but none of them increases performance too much. In this type of problem, if we can reach the data source, we should try to collect more data for rare class. But, in this work, we cannot reach the data source and we try to increase the size of rare instances. "
   ]
  },
  {
   "cell_type": "markdown",
   "metadata": {},
   "source": [
    "There are a lot of different ranges of data in our dataset. Some of them are too large and some of them are too small. Calculations with these types of high range of numbers could be hard for computers. Relating values with each other could be hard and finding similarities in high dimensions could not be reachable. Moreover, if we want to use neural networks, we should normalize our values to increase performance of neural networks. Therefore, before we move to feature selection and modeling parts, I would like to scale feature values in between 0 and 1.   \n",
    "  \n",
    "This scaling could be better with transformations. For instance, we have some skewed data which have a lot of values in a short range on one side of distribution. When we scale highly skewed data, it would not have distinguishing values. However, I do not transform my data to see the results. \n",
    "  \n",
    "I oversampled to increase the size of rare data and undersampled to decrease the size of common data. I use SMOTE method which is highly effective for oversampling. For undersampling, I use Random Under Sampler."
   ]
  },
  {
   "cell_type": "code",
   "execution_count": 24,
   "metadata": {
    "ExecuteTime": {
     "end_time": "2018-09-02T15:50:32.258212Z",
     "start_time": "2018-09-02T15:50:32.209505Z"
    }
   },
   "outputs": [],
   "source": [
    "from imblearn.over_sampling import SMOTE\n",
    "from imblearn.under_sampling import RandomUnderSampler"
   ]
  },
  {
   "cell_type": "code",
   "execution_count": 25,
   "metadata": {
    "ExecuteTime": {
     "end_time": "2018-09-02T15:50:33.339312Z",
     "start_time": "2018-09-02T15:50:32.259827Z"
    }
   },
   "outputs": [
    {
     "name": "stdout",
     "output_type": "stream",
     "text": [
      "Number transactions X_train dataset:  (307511, 710)\n",
      "Number transactions y_train dataset:  (48744, 710)\n",
      "Before OverSampling, counts of label '0': 282686\n",
      "Before OverSampling, counts of label '1': 24825 \n",
      "\n"
     ]
    }
   ],
   "source": [
    "print(\"Number transactions X_train dataset: \", train_imp.shape)\n",
    "print(\"Number transactions y_train dataset: \", test_imp.shape)\n",
    "\n",
    "print(\"Before OverSampling, counts of label '0': {}\".format(sum(train_labels.values==0)))\n",
    "print(\"Before OverSampling, counts of label '1': {} \\n\".format(sum(train_labels.values==1)))"
   ]
  },
  {
   "cell_type": "code",
   "execution_count": 26,
   "metadata": {
    "ExecuteTime": {
     "end_time": "2018-09-02T15:51:29.725942Z",
     "start_time": "2018-09-02T15:50:33.341931Z"
    }
   },
   "outputs": [
    {
     "name": "stdout",
     "output_type": "stream",
     "text": [
      "After OverSampling, the shape of train_X: (565372, 710)\n",
      "After OverSampling, the shape of train_y: (565372,) \n",
      "\n",
      "After OverSampling, counts of label '0': 282686\n",
      "After OverSampling, counts of label '1': 282686\n"
     ]
    }
   ],
   "source": [
    "sm = SMOTE()\n",
    "train_os, label_os = sm.fit_sample(train_imp, train_labels.values.ravel())\n",
    "\n",
    "print('After OverSampling, the shape of train_X: {}'.format(train_os.shape))\n",
    "print('After OverSampling, the shape of train_y: {} \\n'.format(label_os.shape))\n",
    "print(\"After OverSampling, counts of label '0': {}\".format(sum(label_os==0)))\n",
    "print(\"After OverSampling, counts of label '1': {}\".format(sum(label_os==1)))"
   ]
  },
  {
   "cell_type": "code",
   "execution_count": 27,
   "metadata": {
    "ExecuteTime": {
     "end_time": "2018-09-02T15:51:32.041882Z",
     "start_time": "2018-09-02T15:51:29.728177Z"
    }
   },
   "outputs": [
    {
     "name": "stdout",
     "output_type": "stream",
     "text": [
      "After Undersampling, the shape of train_X: (49650, 710)\n",
      "After Undersampling, the shape of train_y: (49650,) \n",
      "\n",
      "After Undersampling, counts of label '0': 24825\n",
      "After Undersampling, counts of label '1': 24825\n"
     ]
    }
   ],
   "source": [
    "rus = RandomUnderSampler(return_indices=True)\n",
    "train_rus, label_rus, idx_resampled = rus.fit_sample(train_imp, train_labels.values.ravel())\n",
    "\n",
    "print('After Undersampling, the shape of train_X: {}'.format(train_rus.shape))\n",
    "print('After Undersampling, the shape of train_y: {} \\n'.format(label_rus.shape))\n",
    "print(\"After Undersampling, counts of label '0': {}\".format(sum(label_rus==0)))\n",
    "print(\"After Undersampling, counts of label '1': {}\".format(sum(label_rus==1)))"
   ]
  },
  {
   "cell_type": "markdown",
   "metadata": {
    "ExecuteTime": {
     "end_time": "2018-09-02T12:02:09.545385Z",
     "start_time": "2018-09-02T12:02:09.542253Z"
    }
   },
   "source": [
    "# Feature Selection"
   ]
  },
  {
   "cell_type": "markdown",
   "metadata": {},
   "source": [
    "We created a lot of new features during dataset creation. However, some of these features may not be useful for training machine learning model. They may decrease the performance or increase the chance of overfitting. Therefore, we can use feature selection techniques to eliminate unnecessary features. There are different types of approaches , some of them needs too much computing power and others may not."
   ]
  },
  {
   "cell_type": "code",
   "execution_count": 28,
   "metadata": {
    "ExecuteTime": {
     "end_time": "2018-09-02T15:51:32.045994Z",
     "start_time": "2018-09-02T15:51:32.043641Z"
    }
   },
   "outputs": [],
   "source": [
    "from sklearn.feature_selection import SelectKBest\n",
    "from sklearn.feature_selection import mutual_info_classif, chi2, f_classif"
   ]
  },
  {
   "cell_type": "markdown",
   "metadata": {},
   "source": [
    "## For Oversampled Data"
   ]
  },
  {
   "cell_type": "code",
   "execution_count": 30,
   "metadata": {
    "ExecuteTime": {
     "end_time": "2018-09-02T18:08:46.822527Z",
     "start_time": "2018-09-02T16:14:59.670732Z"
    }
   },
   "outputs": [
    {
     "data": {
      "text/plain": [
       "SelectKBest(k=250,\n",
       "      score_func=<function mutual_info_classif at 0x7f9a69119b70>)"
      ]
     },
     "execution_count": 30,
     "metadata": {},
     "output_type": "execute_result"
    }
   ],
   "source": [
    "selector_os = SelectKBest(mutual_info_classif, k=250)\n",
    "selector_os.fit(train_os, label_os)"
   ]
  },
  {
   "cell_type": "code",
   "execution_count": 31,
   "metadata": {
    "ExecuteTime": {
     "end_time": "2018-09-02T18:08:51.682774Z",
     "start_time": "2018-09-02T18:08:47.760707Z"
    }
   },
   "outputs": [
    {
     "data": {
      "text/plain": [
       "(565372, 250)"
      ]
     },
     "execution_count": 31,
     "metadata": {},
     "output_type": "execute_result"
    }
   ],
   "source": [
    "train_os_sel = selector_os.transform(train_os)\n",
    "train_os_sel.shape"
   ]
  },
  {
   "cell_type": "code",
   "execution_count": 32,
   "metadata": {
    "ExecuteTime": {
     "end_time": "2018-09-02T18:08:52.480096Z",
     "start_time": "2018-09-02T18:08:52.472964Z"
    }
   },
   "outputs": [
    {
     "data": {
      "text/plain": [
       "array([  1,   2,   3,   4,   5,   6,   7,   8,   9,  10,  11,  12,  17,\n",
       "        19,  20,  21,  22,  27,  31,  32,  33,  34,  35,  36,  37,  38,\n",
       "        39,  40,  41,  42,  43,  44,  45,  46,  47,  48,  49,  50,  51,\n",
       "        52,  53,  54,  55,  56,  57,  58,  59,  60,  62,  64,  66,  90,\n",
       "        91,  92,  93,  94,  95,  96,  97,  98, 105, 112, 117, 119, 161,\n",
       "       218, 228, 235, 236, 237, 238, 239, 241, 246, 247, 249, 250, 251,\n",
       "       252, 253, 255, 261, 262, 269, 278, 279, 280, 282, 283, 284, 295,\n",
       "       296, 297, 298, 317, 324, 328, 329, 330, 333, 334, 335, 336, 337,\n",
       "       339, 343, 344, 345, 347, 348, 349, 351, 352, 353, 354, 355, 356,\n",
       "       357, 358, 361, 362, 363, 364, 365, 366, 367, 368, 369, 370, 371,\n",
       "       373, 374, 375, 377, 378, 379, 382, 383, 385, 386, 387, 388, 389,\n",
       "       390, 393, 394, 395, 396, 397, 398, 399, 400, 401, 402, 403, 404,\n",
       "       405, 406, 455, 456, 457, 458, 459, 460, 461, 464, 465, 470, 471,\n",
       "       472, 483, 488, 489, 498, 499, 500, 501, 503, 504, 511, 517, 520,\n",
       "       521, 543, 544, 559, 560, 563, 564, 565, 566, 567, 568, 569, 570,\n",
       "       571, 578, 579, 580, 581, 584, 585, 590, 591, 594, 595, 606, 607,\n",
       "       608, 609, 610, 613, 614, 615, 616, 618, 621, 622, 634, 635, 636,\n",
       "       643, 644, 651, 652, 653, 654, 655, 656, 657, 658, 659, 661, 664,\n",
       "       669, 675, 676, 684, 685, 686, 688, 689, 690, 691, 693, 694, 705,\n",
       "       706, 707, 709])"
      ]
     },
     "execution_count": 32,
     "metadata": {},
     "output_type": "execute_result"
    }
   ],
   "source": [
    "selector_os.get_support(indices=True)"
   ]
  },
  {
   "cell_type": "code",
   "execution_count": 33,
   "metadata": {
    "ExecuteTime": {
     "end_time": "2018-09-02T18:08:53.377041Z",
     "start_time": "2018-09-02T18:08:53.369147Z"
    }
   },
   "outputs": [
    {
     "data": {
      "text/html": [
       "<div>\n",
       "<style scoped>\n",
       "    .dataframe tbody tr th:only-of-type {\n",
       "        vertical-align: middle;\n",
       "    }\n",
       "\n",
       "    .dataframe tbody tr th {\n",
       "        vertical-align: top;\n",
       "    }\n",
       "\n",
       "    .dataframe thead th {\n",
       "        text-align: right;\n",
       "    }\n",
       "</style>\n",
       "<table border=\"1\" class=\"dataframe\">\n",
       "  <thead>\n",
       "    <tr style=\"text-align: right;\">\n",
       "      <th></th>\n",
       "      <th>0</th>\n",
       "    </tr>\n",
       "  </thead>\n",
       "  <tbody>\n",
       "    <tr>\n",
       "      <th>0</th>\n",
       "      <td>1</td>\n",
       "    </tr>\n",
       "    <tr>\n",
       "      <th>1</th>\n",
       "      <td>2</td>\n",
       "    </tr>\n",
       "    <tr>\n",
       "      <th>2</th>\n",
       "      <td>3</td>\n",
       "    </tr>\n",
       "    <tr>\n",
       "      <th>3</th>\n",
       "      <td>4</td>\n",
       "    </tr>\n",
       "    <tr>\n",
       "      <th>4</th>\n",
       "      <td>5</td>\n",
       "    </tr>\n",
       "  </tbody>\n",
       "</table>\n",
       "</div>"
      ],
      "text/plain": [
       "   0\n",
       "0  1\n",
       "1  2\n",
       "2  3\n",
       "3  4\n",
       "4  5"
      ]
     },
     "execution_count": 33,
     "metadata": {},
     "output_type": "execute_result"
    }
   ],
   "source": [
    "selected_features_os = selector_os.get_support(indices=True)\n",
    "selected_features_os = pd.DataFrame(selected_features_os)\n",
    "selected_features_os.head()"
   ]
  },
  {
   "cell_type": "code",
   "execution_count": 34,
   "metadata": {
    "ExecuteTime": {
     "end_time": "2018-09-02T18:08:54.042039Z",
     "start_time": "2018-09-02T18:08:54.035582Z"
    }
   },
   "outputs": [],
   "source": [
    "selected_features_os.to_csv('selected_features_os_250.csv', index=False, header=False)"
   ]
  },
  {
   "cell_type": "code",
   "execution_count": 35,
   "metadata": {
    "ExecuteTime": {
     "end_time": "2018-09-02T18:08:54.747955Z",
     "start_time": "2018-09-02T18:08:54.609732Z"
    }
   },
   "outputs": [
    {
     "data": {
      "text/plain": [
       "(48744, 250)"
      ]
     },
     "execution_count": 35,
     "metadata": {},
     "output_type": "execute_result"
    }
   ],
   "source": [
    "test_os_sel = selector_os.transform(test_imp)\n",
    "test_os_sel.shape"
   ]
  },
  {
   "cell_type": "markdown",
   "metadata": {},
   "source": [
    "## For Undersampled Data"
   ]
  },
  {
   "cell_type": "code",
   "execution_count": 36,
   "metadata": {
    "ExecuteTime": {
     "end_time": "2018-09-02T18:14:38.309360Z",
     "start_time": "2018-09-02T18:08:55.346238Z"
    }
   },
   "outputs": [
    {
     "data": {
      "text/plain": [
       "(49650, 250)"
      ]
     },
     "execution_count": 36,
     "metadata": {},
     "output_type": "execute_result"
    }
   ],
   "source": [
    "selector_rus = SelectKBest(mutual_info_classif, k=250)\n",
    "selector_rus.fit(train_rus, label_rus)\n",
    "train_rus_sel = selector_rus.transform(train_rus)\n",
    "train_rus_sel.shape"
   ]
  },
  {
   "cell_type": "code",
   "execution_count": 37,
   "metadata": {
    "ExecuteTime": {
     "end_time": "2018-09-02T18:14:39.154634Z",
     "start_time": "2018-09-02T18:14:39.149543Z"
    }
   },
   "outputs": [
    {
     "data": {
      "text/plain": [
       "array([  0,   5,   6,   7,   8,   9,  10,  11,  12,  13,  14,  20,  21,\n",
       "        22,  26,  27,  29,  30,  31,  32,  34,  37,  38,  39,  41,  43,\n",
       "        44,  46,  48,  52,  55,  56,  57,  59,  61,  64,  66,  76,  84,\n",
       "        91,  92,  93,  94,  96,  97,  98, 103, 105, 112, 114, 117, 121,\n",
       "       124, 128, 131, 132, 147, 176, 188, 197, 202, 205, 213, 217, 225,\n",
       "       228, 236, 237, 238, 239, 240, 241, 242, 245, 246, 247, 248, 249,\n",
       "       250, 251, 252, 253, 254, 255, 258, 260, 261, 262, 265, 266, 267,\n",
       "       268, 270, 271, 273, 275, 277, 278, 279, 280, 281, 282, 283, 284,\n",
       "       290, 291, 295, 296, 298, 299, 308, 309, 311, 318, 319, 322, 324,\n",
       "       327, 329, 330, 333, 338, 343, 345, 346, 348, 349, 351, 354, 355,\n",
       "       356, 358, 359, 360, 361, 362, 363, 365, 366, 367, 369, 371, 372,\n",
       "       373, 379, 380, 382, 384, 385, 388, 390, 393, 401, 402, 404, 413,\n",
       "       442, 450, 457, 460, 461, 465, 468, 470, 471, 472, 473, 476, 478,\n",
       "       483, 491, 494, 501, 503, 506, 514, 515, 517, 520, 522, 529, 535,\n",
       "       538, 541, 543, 548, 550, 554, 559, 560, 562, 565, 566, 568, 569,\n",
       "       570, 573, 578, 579, 580, 585, 591, 594, 595, 606, 607, 610, 612,\n",
       "       613, 614, 617, 618, 621, 623, 624, 625, 628, 632, 634, 651, 653,\n",
       "       654, 655, 656, 657, 660, 661, 662, 664, 666, 667, 674, 675, 676,\n",
       "       681, 684, 685, 687, 688, 692, 693, 696, 697, 699, 700, 702, 703,\n",
       "       704, 708, 709])"
      ]
     },
     "execution_count": 37,
     "metadata": {},
     "output_type": "execute_result"
    }
   ],
   "source": [
    "selector_rus.get_support(indices=True)"
   ]
  },
  {
   "cell_type": "code",
   "execution_count": 38,
   "metadata": {
    "ExecuteTime": {
     "end_time": "2018-09-02T18:14:39.787464Z",
     "start_time": "2018-09-02T18:14:39.779468Z"
    }
   },
   "outputs": [
    {
     "data": {
      "text/html": [
       "<div>\n",
       "<style scoped>\n",
       "    .dataframe tbody tr th:only-of-type {\n",
       "        vertical-align: middle;\n",
       "    }\n",
       "\n",
       "    .dataframe tbody tr th {\n",
       "        vertical-align: top;\n",
       "    }\n",
       "\n",
       "    .dataframe thead th {\n",
       "        text-align: right;\n",
       "    }\n",
       "</style>\n",
       "<table border=\"1\" class=\"dataframe\">\n",
       "  <thead>\n",
       "    <tr style=\"text-align: right;\">\n",
       "      <th></th>\n",
       "      <th>0</th>\n",
       "    </tr>\n",
       "  </thead>\n",
       "  <tbody>\n",
       "    <tr>\n",
       "      <th>0</th>\n",
       "      <td>0</td>\n",
       "    </tr>\n",
       "    <tr>\n",
       "      <th>1</th>\n",
       "      <td>5</td>\n",
       "    </tr>\n",
       "    <tr>\n",
       "      <th>2</th>\n",
       "      <td>6</td>\n",
       "    </tr>\n",
       "    <tr>\n",
       "      <th>3</th>\n",
       "      <td>7</td>\n",
       "    </tr>\n",
       "    <tr>\n",
       "      <th>4</th>\n",
       "      <td>8</td>\n",
       "    </tr>\n",
       "  </tbody>\n",
       "</table>\n",
       "</div>"
      ],
      "text/plain": [
       "   0\n",
       "0  0\n",
       "1  5\n",
       "2  6\n",
       "3  7\n",
       "4  8"
      ]
     },
     "execution_count": 38,
     "metadata": {},
     "output_type": "execute_result"
    }
   ],
   "source": [
    "selected_features_rus = selector_rus.get_support(indices=True)\n",
    "selected_features_rus = pd.DataFrame(selected_features_rus)\n",
    "selected_features_rus.head()"
   ]
  },
  {
   "cell_type": "code",
   "execution_count": 39,
   "metadata": {
    "ExecuteTime": {
     "end_time": "2018-09-02T18:14:40.707833Z",
     "start_time": "2018-09-02T18:14:40.702680Z"
    }
   },
   "outputs": [],
   "source": [
    "selected_features_rus.to_csv('selected_features_rus_250.csv', index=False, header=False)"
   ]
  },
  {
   "cell_type": "code",
   "execution_count": 40,
   "metadata": {
    "ExecuteTime": {
     "end_time": "2018-09-02T18:14:41.752005Z",
     "start_time": "2018-09-02T18:14:41.620433Z"
    }
   },
   "outputs": [
    {
     "data": {
      "text/plain": [
       "(48744, 250)"
      ]
     },
     "execution_count": 40,
     "metadata": {},
     "output_type": "execute_result"
    }
   ],
   "source": [
    "test_rus_sel = selector_rus.transform(test_imp)\n",
    "test_rus_sel.shape"
   ]
  },
  {
   "cell_type": "markdown",
   "metadata": {},
   "source": [
    "# PCA"
   ]
  },
  {
   "cell_type": "markdown",
   "metadata": {},
   "source": [
    "Principal Component Analysis (PCA) is used for dimensionality reduction to take important feature combinations. It uses orthogonal transformation to convert feature combinations in lower dimension. There is a good explanation of PCA in http://setosa.io/ev/principal-component-analysis/  \n",
    "I used PCA to create 50 features. I want to compare performance of this dataset with others that I have created before. The downside of PCA algorithm is that you cannot know which features are more important for model. To be able to use PCA, I need to apply it on both train and test data."
   ]
  },
  {
   "cell_type": "code",
   "execution_count": 41,
   "metadata": {
    "ExecuteTime": {
     "end_time": "2018-09-02T18:36:48.379829Z",
     "start_time": "2018-09-02T18:36:48.376315Z"
    }
   },
   "outputs": [],
   "source": [
    "from sklearn.decomposition import PCA"
   ]
  },
  {
   "cell_type": "markdown",
   "metadata": {},
   "source": [
    "## Oversampled"
   ]
  },
  {
   "cell_type": "code",
   "execution_count": 42,
   "metadata": {
    "ExecuteTime": {
     "end_time": "2018-09-02T18:36:55.553250Z",
     "start_time": "2018-09-02T18:36:55.305307Z"
    }
   },
   "outputs": [],
   "source": [
    "concat_os = np.concatenate((train_os_sel, test_os_sel), axis=0)"
   ]
  },
  {
   "cell_type": "code",
   "execution_count": 44,
   "metadata": {
    "ExecuteTime": {
     "end_time": "2018-09-02T18:37:24.743169Z",
     "start_time": "2018-09-02T18:37:16.205681Z"
    }
   },
   "outputs": [],
   "source": [
    "pca_os = PCA(n_components=50)\n",
    "pca_os.fit(concat_os)\n",
    "concat_os_pca = pca_os.transform(concat_os)"
   ]
  },
  {
   "cell_type": "code",
   "execution_count": 45,
   "metadata": {
    "ExecuteTime": {
     "end_time": "2018-09-02T18:37:25.690535Z",
     "start_time": "2018-09-02T18:37:25.686485Z"
    }
   },
   "outputs": [],
   "source": [
    "train_os_pca = concat_os_pca[:565372, :]\n",
    "test_os_pca = concat_os_pca[565372:, :]"
   ]
  },
  {
   "cell_type": "code",
   "execution_count": 46,
   "metadata": {
    "ExecuteTime": {
     "end_time": "2018-09-02T18:37:57.918837Z",
     "start_time": "2018-09-02T18:37:57.914410Z"
    }
   },
   "outputs": [
    {
     "name": "stdout",
     "output_type": "stream",
     "text": [
      "(565372, 50)\n",
      "(48744, 50)\n"
     ]
    }
   ],
   "source": [
    "print(train_os_pca.shape)\n",
    "print(test_os_pca.shape)"
   ]
  },
  {
   "cell_type": "markdown",
   "metadata": {},
   "source": [
    "## Undersampled"
   ]
  },
  {
   "cell_type": "code",
   "execution_count": 47,
   "metadata": {
    "ExecuteTime": {
     "end_time": "2018-09-02T18:38:30.456995Z",
     "start_time": "2018-09-02T18:38:30.241609Z"
    }
   },
   "outputs": [],
   "source": [
    "concat_rus = np.concatenate((train_rus_sel, test_rus_sel), axis=0)"
   ]
  },
  {
   "cell_type": "code",
   "execution_count": 48,
   "metadata": {
    "ExecuteTime": {
     "end_time": "2018-09-02T18:38:40.772660Z",
     "start_time": "2018-09-02T18:38:31.990032Z"
    }
   },
   "outputs": [],
   "source": [
    "pca_rus = PCA(n_components=50)\n",
    "pca_rus.fit(concat_os)\n",
    "concat_rus_pca = pca_rus.transform(concat_rus)"
   ]
  },
  {
   "cell_type": "code",
   "execution_count": 49,
   "metadata": {
    "ExecuteTime": {
     "end_time": "2018-09-02T18:38:41.616804Z",
     "start_time": "2018-09-02T18:38:41.614036Z"
    }
   },
   "outputs": [],
   "source": [
    "train_rus_pca = concat_rus_pca[:49650, :]\n",
    "test_rus_pca = concat_rus_pca[49650:, :]"
   ]
  },
  {
   "cell_type": "code",
   "execution_count": 50,
   "metadata": {
    "ExecuteTime": {
     "end_time": "2018-09-02T18:38:42.587391Z",
     "start_time": "2018-09-02T18:38:42.580338Z"
    }
   },
   "outputs": [
    {
     "name": "stdout",
     "output_type": "stream",
     "text": [
      "(49650, 50)\n",
      "(48744, 50)\n"
     ]
    }
   ],
   "source": [
    "print(train_rus_pca.shape)\n",
    "print(test_rus_pca.shape)"
   ]
  },
  {
   "cell_type": "markdown",
   "metadata": {},
   "source": [
    "# Scaling"
   ]
  },
  {
   "cell_type": "markdown",
   "metadata": {},
   "source": [
    "I used scaling to fit data in better distribution. Therefore, model can recognize patterns better and their performances would increase."
   ]
  },
  {
   "cell_type": "code",
   "execution_count": 52,
   "metadata": {
    "ExecuteTime": {
     "end_time": "2018-09-02T18:44:54.134608Z",
     "start_time": "2018-09-02T18:44:54.131007Z"
    }
   },
   "outputs": [],
   "source": [
    "from sklearn.preprocessing import RobustScaler"
   ]
  },
  {
   "cell_type": "markdown",
   "metadata": {},
   "source": [
    "## Oversampled Data"
   ]
  },
  {
   "cell_type": "code",
   "execution_count": 53,
   "metadata": {
    "ExecuteTime": {
     "end_time": "2018-09-02T18:45:41.724322Z",
     "start_time": "2018-09-02T18:45:41.720367Z"
    }
   },
   "outputs": [],
   "source": [
    "scaler = RobustScaler(with_centering=True, with_scaling=True, quantile_range=(25.0, 75.0), copy=True)"
   ]
  },
  {
   "cell_type": "markdown",
   "metadata": {},
   "source": [
    "### Train"
   ]
  },
  {
   "cell_type": "code",
   "execution_count": 54,
   "metadata": {
    "ExecuteTime": {
     "end_time": "2018-09-02T18:46:26.659645Z",
     "start_time": "2018-09-02T18:46:20.097591Z"
    }
   },
   "outputs": [
    {
     "data": {
      "text/plain": [
       "RobustScaler(copy=True, quantile_range=(25.0, 75.0), with_centering=True,\n",
       "       with_scaling=True)"
      ]
     },
     "execution_count": 54,
     "metadata": {},
     "output_type": "execute_result"
    }
   ],
   "source": [
    "scaler.fit(train_os_sel)"
   ]
  },
  {
   "cell_type": "code",
   "execution_count": 55,
   "metadata": {
    "ExecuteTime": {
     "end_time": "2018-09-02T18:46:28.914750Z",
     "start_time": "2018-09-02T18:46:28.341282Z"
    }
   },
   "outputs": [],
   "source": [
    "train_os_sel_scaled = scaler.transform(train_os_sel)"
   ]
  },
  {
   "cell_type": "code",
   "execution_count": 56,
   "metadata": {
    "ExecuteTime": {
     "end_time": "2018-09-02T18:46:29.940960Z",
     "start_time": "2018-09-02T18:46:29.907383Z"
    }
   },
   "outputs": [
    {
     "data": {
      "text/html": [
       "<div>\n",
       "<style scoped>\n",
       "    .dataframe tbody tr th:only-of-type {\n",
       "        vertical-align: middle;\n",
       "    }\n",
       "\n",
       "    .dataframe tbody tr th {\n",
       "        vertical-align: top;\n",
       "    }\n",
       "\n",
       "    .dataframe thead th {\n",
       "        text-align: right;\n",
       "    }\n",
       "</style>\n",
       "<table border=\"1\" class=\"dataframe\">\n",
       "  <thead>\n",
       "    <tr style=\"text-align: right;\">\n",
       "      <th></th>\n",
       "      <th>0</th>\n",
       "      <th>1</th>\n",
       "      <th>2</th>\n",
       "      <th>3</th>\n",
       "      <th>4</th>\n",
       "      <th>5</th>\n",
       "      <th>6</th>\n",
       "      <th>7</th>\n",
       "      <th>8</th>\n",
       "      <th>9</th>\n",
       "      <th>...</th>\n",
       "      <th>240</th>\n",
       "      <th>241</th>\n",
       "      <th>242</th>\n",
       "      <th>243</th>\n",
       "      <th>244</th>\n",
       "      <th>245</th>\n",
       "      <th>246</th>\n",
       "      <th>247</th>\n",
       "      <th>248</th>\n",
       "      <th>249</th>\n",
       "    </tr>\n",
       "  </thead>\n",
       "  <tbody>\n",
       "    <tr>\n",
       "      <th>0</th>\n",
       "      <td>0.000000</td>\n",
       "      <td>0.000000</td>\n",
       "      <td>0.0</td>\n",
       "      <td>0.627969</td>\n",
       "      <td>-0.220236</td>\n",
       "      <td>-0.026622</td>\n",
       "      <td>-0.239130</td>\n",
       "      <td>0.000000</td>\n",
       "      <td>0.880836</td>\n",
       "      <td>0.283063</td>\n",
       "      <td>...</td>\n",
       "      <td>-0.270268</td>\n",
       "      <td>-0.462276</td>\n",
       "      <td>0.523779</td>\n",
       "      <td>0.070544</td>\n",
       "      <td>0.047336</td>\n",
       "      <td>-0.139398</td>\n",
       "      <td>-1.579874</td>\n",
       "      <td>-1.082012</td>\n",
       "      <td>0.414038</td>\n",
       "      <td>-0.320302</td>\n",
       "    </tr>\n",
       "    <tr>\n",
       "      <th>1</th>\n",
       "      <td>0.000000</td>\n",
       "      <td>-1.219961</td>\n",
       "      <td>0.0</td>\n",
       "      <td>1.378374</td>\n",
       "      <td>1.696667</td>\n",
       "      <td>0.679665</td>\n",
       "      <td>1.641304</td>\n",
       "      <td>-0.970456</td>\n",
       "      <td>-0.267411</td>\n",
       "      <td>0.002875</td>\n",
       "      <td>...</td>\n",
       "      <td>-0.300205</td>\n",
       "      <td>-0.185683</td>\n",
       "      <td>-0.534629</td>\n",
       "      <td>-0.423265</td>\n",
       "      <td>-0.140120</td>\n",
       "      <td>-0.232825</td>\n",
       "      <td>0.675213</td>\n",
       "      <td>-0.420640</td>\n",
       "      <td>1.821766</td>\n",
       "      <td>0.587345</td>\n",
       "    </tr>\n",
       "    <tr>\n",
       "      <th>2</th>\n",
       "      <td>1.102932</td>\n",
       "      <td>0.000000</td>\n",
       "      <td>0.0</td>\n",
       "      <td>-0.872841</td>\n",
       "      <td>-0.807251</td>\n",
       "      <td>-1.179395</td>\n",
       "      <td>-0.760870</td>\n",
       "      <td>-0.557663</td>\n",
       "      <td>-0.626002</td>\n",
       "      <td>0.492569</td>\n",
       "      <td>...</td>\n",
       "      <td>0.395007</td>\n",
       "      <td>-1.199859</td>\n",
       "      <td>-1.197210</td>\n",
       "      <td>-1.058163</td>\n",
       "      <td>-0.215881</td>\n",
       "      <td>-0.412263</td>\n",
       "      <td>0.589053</td>\n",
       "      <td>-0.540889</td>\n",
       "      <td>2.070188</td>\n",
       "      <td>1.264823</td>\n",
       "    </tr>\n",
       "    <tr>\n",
       "      <th>3</th>\n",
       "      <td>0.000000</td>\n",
       "      <td>0.000000</td>\n",
       "      <td>0.0</td>\n",
       "      <td>-0.122436</td>\n",
       "      <td>-0.423219</td>\n",
       "      <td>0.293577</td>\n",
       "      <td>-0.369565</td>\n",
       "      <td>-0.685679</td>\n",
       "      <td>-0.619557</td>\n",
       "      <td>-0.938375</td>\n",
       "      <td>...</td>\n",
       "      <td>0.688208</td>\n",
       "      <td>0.198436</td>\n",
       "      <td>0.492122</td>\n",
       "      <td>0.468891</td>\n",
       "      <td>0.854294</td>\n",
       "      <td>0.710823</td>\n",
       "      <td>0.000000</td>\n",
       "      <td>0.639485</td>\n",
       "      <td>-0.171685</td>\n",
       "      <td>-0.168394</td>\n",
       "    </tr>\n",
       "    <tr>\n",
       "      <th>4</th>\n",
       "      <td>0.000000</td>\n",
       "      <td>0.000000</td>\n",
       "      <td>0.0</td>\n",
       "      <td>-0.272517</td>\n",
       "      <td>0.009736</td>\n",
       "      <td>-0.208685</td>\n",
       "      <td>0.152174</td>\n",
       "      <td>0.627172</td>\n",
       "      <td>-0.765288</td>\n",
       "      <td>-0.937867</td>\n",
       "      <td>...</td>\n",
       "      <td>-0.060770</td>\n",
       "      <td>2.165362</td>\n",
       "      <td>-0.111813</td>\n",
       "      <td>-0.070544</td>\n",
       "      <td>-0.080681</td>\n",
       "      <td>0.268416</td>\n",
       "      <td>1.274420</td>\n",
       "      <td>0.360981</td>\n",
       "      <td>0.414038</td>\n",
       "      <td>0.322434</td>\n",
       "    </tr>\n",
       "  </tbody>\n",
       "</table>\n",
       "<p>5 rows × 250 columns</p>\n",
       "</div>"
      ],
      "text/plain": [
       "        0         1    2         3         4         5         6         7    \\\n",
       "0  0.000000  0.000000  0.0  0.627969 -0.220236 -0.026622 -0.239130  0.000000   \n",
       "1  0.000000 -1.219961  0.0  1.378374  1.696667  0.679665  1.641304 -0.970456   \n",
       "2  1.102932  0.000000  0.0 -0.872841 -0.807251 -1.179395 -0.760870 -0.557663   \n",
       "3  0.000000  0.000000  0.0 -0.122436 -0.423219  0.293577 -0.369565 -0.685679   \n",
       "4  0.000000  0.000000  0.0 -0.272517  0.009736 -0.208685  0.152174  0.627172   \n",
       "\n",
       "        8         9      ...          240       241       242       243  \\\n",
       "0  0.880836  0.283063    ...    -0.270268 -0.462276  0.523779  0.070544   \n",
       "1 -0.267411  0.002875    ...    -0.300205 -0.185683 -0.534629 -0.423265   \n",
       "2 -0.626002  0.492569    ...     0.395007 -1.199859 -1.197210 -1.058163   \n",
       "3 -0.619557 -0.938375    ...     0.688208  0.198436  0.492122  0.468891   \n",
       "4 -0.765288 -0.937867    ...    -0.060770  2.165362 -0.111813 -0.070544   \n",
       "\n",
       "        244       245       246       247       248       249  \n",
       "0  0.047336 -0.139398 -1.579874 -1.082012  0.414038 -0.320302  \n",
       "1 -0.140120 -0.232825  0.675213 -0.420640  1.821766  0.587345  \n",
       "2 -0.215881 -0.412263  0.589053 -0.540889  2.070188  1.264823  \n",
       "3  0.854294  0.710823  0.000000  0.639485 -0.171685 -0.168394  \n",
       "4 -0.080681  0.268416  1.274420  0.360981  0.414038  0.322434  \n",
       "\n",
       "[5 rows x 250 columns]"
      ]
     },
     "execution_count": 56,
     "metadata": {},
     "output_type": "execute_result"
    }
   ],
   "source": [
    "train_os_sel_scaled = pd.DataFrame(train_os_sel_scaled)\n",
    "train_os_sel_scaled.head()"
   ]
  },
  {
   "cell_type": "markdown",
   "metadata": {},
   "source": [
    "### Test"
   ]
  },
  {
   "cell_type": "code",
   "execution_count": 57,
   "metadata": {
    "ExecuteTime": {
     "end_time": "2018-09-02T18:46:34.641547Z",
     "start_time": "2018-09-02T18:46:34.017963Z"
    }
   },
   "outputs": [],
   "source": [
    "scaler_test = RobustScaler(with_centering=True, with_scaling=True, quantile_range=(25.0, 75.0), copy=True)\n",
    "scaler_test.fit(test_os_sel)\n",
    "test_os_sel_scaled = scaler_test.transform(test_os_sel)"
   ]
  },
  {
   "cell_type": "code",
   "execution_count": 58,
   "metadata": {
    "ExecuteTime": {
     "end_time": "2018-09-02T18:46:35.715714Z",
     "start_time": "2018-09-02T18:46:35.684809Z"
    }
   },
   "outputs": [
    {
     "data": {
      "text/html": [
       "<div>\n",
       "<style scoped>\n",
       "    .dataframe tbody tr th:only-of-type {\n",
       "        vertical-align: middle;\n",
       "    }\n",
       "\n",
       "    .dataframe tbody tr th {\n",
       "        vertical-align: top;\n",
       "    }\n",
       "\n",
       "    .dataframe thead th {\n",
       "        text-align: right;\n",
       "    }\n",
       "</style>\n",
       "<table border=\"1\" class=\"dataframe\">\n",
       "  <thead>\n",
       "    <tr style=\"text-align: right;\">\n",
       "      <th></th>\n",
       "      <th>0</th>\n",
       "      <th>1</th>\n",
       "      <th>2</th>\n",
       "      <th>3</th>\n",
       "      <th>4</th>\n",
       "      <th>5</th>\n",
       "      <th>6</th>\n",
       "      <th>7</th>\n",
       "      <th>8</th>\n",
       "      <th>9</th>\n",
       "      <th>...</th>\n",
       "      <th>240</th>\n",
       "      <th>241</th>\n",
       "      <th>242</th>\n",
       "      <th>243</th>\n",
       "      <th>244</th>\n",
       "      <th>245</th>\n",
       "      <th>246</th>\n",
       "      <th>247</th>\n",
       "      <th>248</th>\n",
       "      <th>249</th>\n",
       "    </tr>\n",
       "  </thead>\n",
       "  <tbody>\n",
       "    <tr>\n",
       "      <th>0</th>\n",
       "      <td>0.0</td>\n",
       "      <td>0.0</td>\n",
       "      <td>0.0</td>\n",
       "      <td>-0.20</td>\n",
       "      <td>0.286707</td>\n",
       "      <td>-0.291541</td>\n",
       "      <td>0.133333</td>\n",
       "      <td>0.000000</td>\n",
       "      <td>-0.483966</td>\n",
       "      <td>-0.396327</td>\n",
       "      <td>...</td>\n",
       "      <td>-0.031154</td>\n",
       "      <td>-0.785714</td>\n",
       "      <td>-0.792839</td>\n",
       "      <td>-0.772730</td>\n",
       "      <td>-0.147964</td>\n",
       "      <td>-0.291908</td>\n",
       "      <td>0.535583</td>\n",
       "      <td>0.591194</td>\n",
       "      <td>-0.066667</td>\n",
       "      <td>0.897690</td>\n",
       "    </tr>\n",
       "    <tr>\n",
       "      <th>1</th>\n",
       "      <td>0.0</td>\n",
       "      <td>0.0</td>\n",
       "      <td>0.0</td>\n",
       "      <td>-0.52</td>\n",
       "      <td>-0.548393</td>\n",
       "      <td>-0.455852</td>\n",
       "      <td>-0.533333</td>\n",
       "      <td>0.908077</td>\n",
       "      <td>-0.319143</td>\n",
       "      <td>-1.214996</td>\n",
       "      <td>...</td>\n",
       "      <td>-0.081504</td>\n",
       "      <td>-0.714286</td>\n",
       "      <td>-0.371762</td>\n",
       "      <td>-0.450759</td>\n",
       "      <td>-0.098401</td>\n",
       "      <td>-0.258326</td>\n",
       "      <td>-1.752249</td>\n",
       "      <td>-0.147798</td>\n",
       "      <td>-0.133333</td>\n",
       "      <td>0.366337</td>\n",
       "    </tr>\n",
       "    <tr>\n",
       "      <th>2</th>\n",
       "      <td>1.0</td>\n",
       "      <td>0.0</td>\n",
       "      <td>0.0</td>\n",
       "      <td>0.40</td>\n",
       "      <td>0.514683</td>\n",
       "      <td>2.243105</td>\n",
       "      <td>0.577778</td>\n",
       "      <td>0.013453</td>\n",
       "      <td>-0.595575</td>\n",
       "      <td>-1.210788</td>\n",
       "      <td>...</td>\n",
       "      <td>0.103462</td>\n",
       "      <td>0.464286</td>\n",
       "      <td>6.762943</td>\n",
       "      <td>6.246231</td>\n",
       "      <td>9.889809</td>\n",
       "      <td>8.438212</td>\n",
       "      <td>0.831593</td>\n",
       "      <td>1.330186</td>\n",
       "      <td>-0.200000</td>\n",
       "      <td>-1.584158</td>\n",
       "    </tr>\n",
       "    <tr>\n",
       "      <th>3</th>\n",
       "      <td>0.0</td>\n",
       "      <td>0.0</td>\n",
       "      <td>2.0</td>\n",
       "      <td>1.40</td>\n",
       "      <td>2.715030</td>\n",
       "      <td>1.174044</td>\n",
       "      <td>2.911111</td>\n",
       "      <td>0.404245</td>\n",
       "      <td>0.253326</td>\n",
       "      <td>-0.219204</td>\n",
       "      <td>...</td>\n",
       "      <td>0.791184</td>\n",
       "      <td>0.785714</td>\n",
       "      <td>4.326692</td>\n",
       "      <td>3.734860</td>\n",
       "      <td>3.625167</td>\n",
       "      <td>4.135796</td>\n",
       "      <td>1.138231</td>\n",
       "      <td>0.295597</td>\n",
       "      <td>1.066667</td>\n",
       "      <td>-0.052805</td>\n",
       "    </tr>\n",
       "    <tr>\n",
       "      <th>4</th>\n",
       "      <td>1.0</td>\n",
       "      <td>-1.0</td>\n",
       "      <td>1.0</td>\n",
       "      <td>0.20</td>\n",
       "      <td>0.423545</td>\n",
       "      <td>0.301043</td>\n",
       "      <td>0.566667</td>\n",
       "      <td>-0.472638</td>\n",
       "      <td>0.384400</td>\n",
       "      <td>-0.343535</td>\n",
       "      <td>...</td>\n",
       "      <td>0.787565</td>\n",
       "      <td>0.283725</td>\n",
       "      <td>0.615957</td>\n",
       "      <td>0.613635</td>\n",
       "      <td>0.908264</td>\n",
       "      <td>0.784298</td>\n",
       "      <td>-0.064398</td>\n",
       "      <td>0.704403</td>\n",
       "      <td>-0.250630</td>\n",
       "      <td>-0.194508</td>\n",
       "    </tr>\n",
       "  </tbody>\n",
       "</table>\n",
       "<p>5 rows × 250 columns</p>\n",
       "</div>"
      ],
      "text/plain": [
       "   0    1    2     3         4         5         6         7         8    \\\n",
       "0  0.0  0.0  0.0 -0.20  0.286707 -0.291541  0.133333  0.000000 -0.483966   \n",
       "1  0.0  0.0  0.0 -0.52 -0.548393 -0.455852 -0.533333  0.908077 -0.319143   \n",
       "2  1.0  0.0  0.0  0.40  0.514683  2.243105  0.577778  0.013453 -0.595575   \n",
       "3  0.0  0.0  2.0  1.40  2.715030  1.174044  2.911111  0.404245  0.253326   \n",
       "4  1.0 -1.0  1.0  0.20  0.423545  0.301043  0.566667 -0.472638  0.384400   \n",
       "\n",
       "        9      ...          240       241       242       243       244  \\\n",
       "0 -0.396327    ...    -0.031154 -0.785714 -0.792839 -0.772730 -0.147964   \n",
       "1 -1.214996    ...    -0.081504 -0.714286 -0.371762 -0.450759 -0.098401   \n",
       "2 -1.210788    ...     0.103462  0.464286  6.762943  6.246231  9.889809   \n",
       "3 -0.219204    ...     0.791184  0.785714  4.326692  3.734860  3.625167   \n",
       "4 -0.343535    ...     0.787565  0.283725  0.615957  0.613635  0.908264   \n",
       "\n",
       "        245       246       247       248       249  \n",
       "0 -0.291908  0.535583  0.591194 -0.066667  0.897690  \n",
       "1 -0.258326 -1.752249 -0.147798 -0.133333  0.366337  \n",
       "2  8.438212  0.831593  1.330186 -0.200000 -1.584158  \n",
       "3  4.135796  1.138231  0.295597  1.066667 -0.052805  \n",
       "4  0.784298 -0.064398  0.704403 -0.250630 -0.194508  \n",
       "\n",
       "[5 rows x 250 columns]"
      ]
     },
     "execution_count": 58,
     "metadata": {},
     "output_type": "execute_result"
    }
   ],
   "source": [
    "test_os_sel_scaled = pd.DataFrame(test_os_sel_scaled)\n",
    "test_os_sel_scaled.head()"
   ]
  },
  {
   "cell_type": "markdown",
   "metadata": {},
   "source": [
    "## For Undersampled Data"
   ]
  },
  {
   "cell_type": "markdown",
   "metadata": {},
   "source": [
    "### Train"
   ]
  },
  {
   "cell_type": "code",
   "execution_count": 59,
   "metadata": {
    "ExecuteTime": {
     "end_time": "2018-09-02T18:47:06.505634Z",
     "start_time": "2018-09-02T18:47:05.880488Z"
    }
   },
   "outputs": [
    {
     "data": {
      "text/html": [
       "<div>\n",
       "<style scoped>\n",
       "    .dataframe tbody tr th:only-of-type {\n",
       "        vertical-align: middle;\n",
       "    }\n",
       "\n",
       "    .dataframe tbody tr th {\n",
       "        vertical-align: top;\n",
       "    }\n",
       "\n",
       "    .dataframe thead th {\n",
       "        text-align: right;\n",
       "    }\n",
       "</style>\n",
       "<table border=\"1\" class=\"dataframe\">\n",
       "  <thead>\n",
       "    <tr style=\"text-align: right;\">\n",
       "      <th></th>\n",
       "      <th>0</th>\n",
       "      <th>1</th>\n",
       "      <th>2</th>\n",
       "      <th>3</th>\n",
       "      <th>4</th>\n",
       "      <th>5</th>\n",
       "      <th>6</th>\n",
       "      <th>7</th>\n",
       "      <th>8</th>\n",
       "      <th>9</th>\n",
       "      <th>...</th>\n",
       "      <th>240</th>\n",
       "      <th>241</th>\n",
       "      <th>242</th>\n",
       "      <th>243</th>\n",
       "      <th>244</th>\n",
       "      <th>245</th>\n",
       "      <th>246</th>\n",
       "      <th>247</th>\n",
       "      <th>248</th>\n",
       "      <th>249</th>\n",
       "    </tr>\n",
       "  </thead>\n",
       "  <tbody>\n",
       "    <tr>\n",
       "      <th>0</th>\n",
       "      <td>0.0</td>\n",
       "      <td>5.489813e+05</td>\n",
       "      <td>27193.5</td>\n",
       "      <td>3.379454</td>\n",
       "      <td>-1.099032</td>\n",
       "      <td>-2.577648</td>\n",
       "      <td>-1.087536</td>\n",
       "      <td>-486882.726216</td>\n",
       "      <td>1.568307</td>\n",
       "      <td>0.607492</td>\n",
       "      <td>...</td>\n",
       "      <td>1287.124336</td>\n",
       "      <td>39518.699572</td>\n",
       "      <td>-1.617777</td>\n",
       "      <td>185753.935866</td>\n",
       "      <td>-3.150709</td>\n",
       "      <td>-20.441119</td>\n",
       "      <td>5.982081e+05</td>\n",
       "      <td>-1927.196922</td>\n",
       "      <td>5.649819</td>\n",
       "      <td>-0.085790</td>\n",
       "    </tr>\n",
       "    <tr>\n",
       "      <th>1</th>\n",
       "      <td>0.0</td>\n",
       "      <td>1.072930e+06</td>\n",
       "      <td>25843.5</td>\n",
       "      <td>5.380534</td>\n",
       "      <td>-1.099032</td>\n",
       "      <td>-2.397448</td>\n",
       "      <td>-1.092957</td>\n",
       "      <td>-14500.802355</td>\n",
       "      <td>2.107687</td>\n",
       "      <td>0.607492</td>\n",
       "      <td>...</td>\n",
       "      <td>2838.622439</td>\n",
       "      <td>1884.291999</td>\n",
       "      <td>12.893391</td>\n",
       "      <td>28237.711436</td>\n",
       "      <td>-0.461907</td>\n",
       "      <td>-3.757820</td>\n",
       "      <td>8.764223e+03</td>\n",
       "      <td>-203.281378</td>\n",
       "      <td>9.596699</td>\n",
       "      <td>-0.928294</td>\n",
       "    </tr>\n",
       "    <tr>\n",
       "      <th>2</th>\n",
       "      <td>0.0</td>\n",
       "      <td>3.831337e+05</td>\n",
       "      <td>13963.5</td>\n",
       "      <td>1.028185</td>\n",
       "      <td>-1.099032</td>\n",
       "      <td>-2.782444</td>\n",
       "      <td>-1.103915</td>\n",
       "      <td>-676395.129703</td>\n",
       "      <td>2.091495</td>\n",
       "      <td>0.607492</td>\n",
       "      <td>...</td>\n",
       "      <td>1471.669531</td>\n",
       "      <td>949.303596</td>\n",
       "      <td>16.000852</td>\n",
       "      <td>17958.796258</td>\n",
       "      <td>-1.833804</td>\n",
       "      <td>-8.429144</td>\n",
       "      <td>1.532703e+05</td>\n",
       "      <td>-1014.964830</td>\n",
       "      <td>8.934365</td>\n",
       "      <td>-0.398472</td>\n",
       "    </tr>\n",
       "    <tr>\n",
       "      <th>3</th>\n",
       "      <td>0.0</td>\n",
       "      <td>1.288823e+06</td>\n",
       "      <td>31018.5</td>\n",
       "      <td>8.632289</td>\n",
       "      <td>-1.099032</td>\n",
       "      <td>-2.866957</td>\n",
       "      <td>-1.090623</td>\n",
       "      <td>-642308.334982</td>\n",
       "      <td>1.883823</td>\n",
       "      <td>0.607492</td>\n",
       "      <td>...</td>\n",
       "      <td>297.479378</td>\n",
       "      <td>6516.525615</td>\n",
       "      <td>1468.787907</td>\n",
       "      <td>48423.790996</td>\n",
       "      <td>3.034559</td>\n",
       "      <td>-10.502212</td>\n",
       "      <td>6.030751e+07</td>\n",
       "      <td>428.532692</td>\n",
       "      <td>68.165954</td>\n",
       "      <td>-0.168394</td>\n",
       "    </tr>\n",
       "    <tr>\n",
       "      <th>4</th>\n",
       "      <td>0.0</td>\n",
       "      <td>1.019130e+06</td>\n",
       "      <td>40320.0</td>\n",
       "      <td>5.880804</td>\n",
       "      <td>-1.099032</td>\n",
       "      <td>-2.655803</td>\n",
       "      <td>-1.090662</td>\n",
       "      <td>-404145.935297</td>\n",
       "      <td>1.674422</td>\n",
       "      <td>0.607492</td>\n",
       "      <td>...</td>\n",
       "      <td>7.279409</td>\n",
       "      <td>593.806947</td>\n",
       "      <td>981.240337</td>\n",
       "      <td>2843.374570</td>\n",
       "      <td>-5.826623</td>\n",
       "      <td>-6.997050</td>\n",
       "      <td>4.732907e+05</td>\n",
       "      <td>-275.061252</td>\n",
       "      <td>19.511033</td>\n",
       "      <td>1.012940</td>\n",
       "    </tr>\n",
       "  </tbody>\n",
       "</table>\n",
       "<p>5 rows × 250 columns</p>\n",
       "</div>"
      ],
      "text/plain": [
       "   0             1        2         3         4         5         6    \\\n",
       "0  0.0  5.489813e+05  27193.5  3.379454 -1.099032 -2.577648 -1.087536   \n",
       "1  0.0  1.072930e+06  25843.5  5.380534 -1.099032 -2.397448 -1.092957   \n",
       "2  0.0  3.831337e+05  13963.5  1.028185 -1.099032 -2.782444 -1.103915   \n",
       "3  0.0  1.288823e+06  31018.5  8.632289 -1.099032 -2.866957 -1.090623   \n",
       "4  0.0  1.019130e+06  40320.0  5.880804 -1.099032 -2.655803 -1.090662   \n",
       "\n",
       "             7         8         9      ...             240           241  \\\n",
       "0 -486882.726216  1.568307  0.607492    ...     1287.124336  39518.699572   \n",
       "1  -14500.802355  2.107687  0.607492    ...     2838.622439   1884.291999   \n",
       "2 -676395.129703  2.091495  0.607492    ...     1471.669531    949.303596   \n",
       "3 -642308.334982  1.883823  0.607492    ...      297.479378   6516.525615   \n",
       "4 -404145.935297  1.674422  0.607492    ...        7.279409    593.806947   \n",
       "\n",
       "           242            243       244        245           246          247  \\\n",
       "0    -1.617777  185753.935866 -3.150709 -20.441119  5.982081e+05 -1927.196922   \n",
       "1    12.893391   28237.711436 -0.461907  -3.757820  8.764223e+03  -203.281378   \n",
       "2    16.000852   17958.796258 -1.833804  -8.429144  1.532703e+05 -1014.964830   \n",
       "3  1468.787907   48423.790996  3.034559 -10.502212  6.030751e+07   428.532692   \n",
       "4   981.240337    2843.374570 -5.826623  -6.997050  4.732907e+05  -275.061252   \n",
       "\n",
       "         248       249  \n",
       "0   5.649819 -0.085790  \n",
       "1   9.596699 -0.928294  \n",
       "2   8.934365 -0.398472  \n",
       "3  68.165954 -0.168394  \n",
       "4  19.511033  1.012940  \n",
       "\n",
       "[5 rows x 250 columns]"
      ]
     },
     "execution_count": 59,
     "metadata": {},
     "output_type": "execute_result"
    }
   ],
   "source": [
    "scaler_rus_train = RobustScaler(with_centering=True, with_scaling=True, quantile_range=(25.0, 75.0), copy=True)\n",
    "scaler_rus_train.fit(train_rus_sel)\n",
    "train_rus_sel_scaled = scaler.transform(train_rus_sel)\n",
    "train_rus_sel_scaled = pd.DataFrame(train_rus_sel_scaled)\n",
    "train_rus_sel_scaled.head()"
   ]
  },
  {
   "cell_type": "markdown",
   "metadata": {},
   "source": [
    "### Test"
   ]
  },
  {
   "cell_type": "code",
   "execution_count": 60,
   "metadata": {
    "ExecuteTime": {
     "end_time": "2018-09-02T18:47:09.949953Z",
     "start_time": "2018-09-02T18:47:09.355645Z"
    }
   },
   "outputs": [
    {
     "data": {
      "text/html": [
       "<div>\n",
       "<style scoped>\n",
       "    .dataframe tbody tr th:only-of-type {\n",
       "        vertical-align: middle;\n",
       "    }\n",
       "\n",
       "    .dataframe tbody tr th {\n",
       "        vertical-align: top;\n",
       "    }\n",
       "\n",
       "    .dataframe thead th {\n",
       "        text-align: right;\n",
       "    }\n",
       "</style>\n",
       "<table border=\"1\" class=\"dataframe\">\n",
       "  <thead>\n",
       "    <tr style=\"text-align: right;\">\n",
       "      <th></th>\n",
       "      <th>0</th>\n",
       "      <th>1</th>\n",
       "      <th>2</th>\n",
       "      <th>3</th>\n",
       "      <th>4</th>\n",
       "      <th>5</th>\n",
       "      <th>6</th>\n",
       "      <th>7</th>\n",
       "      <th>8</th>\n",
       "      <th>9</th>\n",
       "      <th>...</th>\n",
       "      <th>240</th>\n",
       "      <th>241</th>\n",
       "      <th>242</th>\n",
       "      <th>243</th>\n",
       "      <th>244</th>\n",
       "      <th>245</th>\n",
       "      <th>246</th>\n",
       "      <th>247</th>\n",
       "      <th>248</th>\n",
       "      <th>249</th>\n",
       "    </tr>\n",
       "  </thead>\n",
       "  <tbody>\n",
       "    <tr>\n",
       "      <th>0</th>\n",
       "      <td>0.0</td>\n",
       "      <td>6.939127e+05</td>\n",
       "      <td>20560.5</td>\n",
       "      <td>3.379454</td>\n",
       "      <td>-1.099032</td>\n",
       "      <td>-2.848526</td>\n",
       "      <td>-1.092582</td>\n",
       "      <td>-328786.137266</td>\n",
       "      <td>2.240528</td>\n",
       "      <td>0.607492</td>\n",
       "      <td>...</td>\n",
       "      <td>2.539329</td>\n",
       "      <td>800.640116</td>\n",
       "      <td>848.326176</td>\n",
       "      <td>2904.864436</td>\n",
       "      <td>-0.224464</td>\n",
       "      <td>-0.421161</td>\n",
       "      <td>1.892796e+00</td>\n",
       "      <td>-0.360515</td>\n",
       "      <td>20.693998</td>\n",
       "      <td>1.143224</td>\n",
       "    </tr>\n",
       "    <tr>\n",
       "      <th>1</th>\n",
       "      <td>0.0</td>\n",
       "      <td>2.717671e+05</td>\n",
       "      <td>17370.0</td>\n",
       "      <td>0.377834</td>\n",
       "      <td>-1.099032</td>\n",
       "      <td>-2.772940</td>\n",
       "      <td>-1.097751</td>\n",
       "      <td>-579858.274504</td>\n",
       "      <td>2.113033</td>\n",
       "      <td>0.607492</td>\n",
       "      <td>...</td>\n",
       "      <td>17.380295</td>\n",
       "      <td>812.549541</td>\n",
       "      <td>1033.805807</td>\n",
       "      <td>3960.623529</td>\n",
       "      <td>-0.224464</td>\n",
       "      <td>-0.421161</td>\n",
       "      <td>1.892796e+00</td>\n",
       "      <td>-0.360515</td>\n",
       "      <td>18.095747</td>\n",
       "      <td>0.444032</td>\n",
       "    </tr>\n",
       "    <tr>\n",
       "      <th>2</th>\n",
       "      <td>0.0</td>\n",
       "      <td>8.091552e+05</td>\n",
       "      <td>69777.0</td>\n",
       "      <td>5.380534</td>\n",
       "      <td>-1.099032</td>\n",
       "      <td>-2.899709</td>\n",
       "      <td>-1.097725</td>\n",
       "      <td>-138319.812285</td>\n",
       "      <td>1.817482</td>\n",
       "      <td>0.607492</td>\n",
       "      <td>...</td>\n",
       "      <td>3008.242095</td>\n",
       "      <td>16471.960252</td>\n",
       "      <td>12.893391</td>\n",
       "      <td>119160.204776</td>\n",
       "      <td>-10.160854</td>\n",
       "      <td>-34.748449</td>\n",
       "      <td>3.990768e+06</td>\n",
       "      <td>-10788.999922</td>\n",
       "      <td>13.514266</td>\n",
       "      <td>-2.122566</td>\n",
       "    </tr>\n",
       "    <tr>\n",
       "      <th>3</th>\n",
       "      <td>0.0</td>\n",
       "      <td>1.921438e+06</td>\n",
       "      <td>49018.5</td>\n",
       "      <td>15.886203</td>\n",
       "      <td>-1.099032</td>\n",
       "      <td>-2.510410</td>\n",
       "      <td>-1.091464</td>\n",
       "      <td>-127190.728187</td>\n",
       "      <td>1.706650</td>\n",
       "      <td>0.607492</td>\n",
       "      <td>...</td>\n",
       "      <td>1132.362503</td>\n",
       "      <td>1795.945266</td>\n",
       "      <td>-1.375763</td>\n",
       "      <td>39691.060830</td>\n",
       "      <td>-5.567909</td>\n",
       "      <td>-13.033734</td>\n",
       "      <td>5.054815e+05</td>\n",
       "      <td>-4230.026748</td>\n",
       "      <td>5.190258</td>\n",
       "      <td>-0.107504</td>\n",
       "    </tr>\n",
       "    <tr>\n",
       "      <th>4</th>\n",
       "      <td>0.0</td>\n",
       "      <td>7.630845e+05</td>\n",
       "      <td>32067.0</td>\n",
       "      <td>5.330507</td>\n",
       "      <td>-1.099032</td>\n",
       "      <td>-2.450301</td>\n",
       "      <td>-1.092249</td>\n",
       "      <td>-254380.260729</td>\n",
       "      <td>1.698161</td>\n",
       "      <td>0.607492</td>\n",
       "      <td>...</td>\n",
       "      <td>318.815205</td>\n",
       "      <td>7139.477267</td>\n",
       "      <td>1580.849589</td>\n",
       "      <td>54068.689420</td>\n",
       "      <td>4.684680</td>\n",
       "      <td>-11.004122</td>\n",
       "      <td>6.468551e+07</td>\n",
       "      <td>946.140700</td>\n",
       "      <td>48.092334</td>\n",
       "      <td>-0.293967</td>\n",
       "    </tr>\n",
       "  </tbody>\n",
       "</table>\n",
       "<p>5 rows × 250 columns</p>\n",
       "</div>"
      ],
      "text/plain": [
       "   0             1        2          3         4         5         6    \\\n",
       "0  0.0  6.939127e+05  20560.5   3.379454 -1.099032 -2.848526 -1.092582   \n",
       "1  0.0  2.717671e+05  17370.0   0.377834 -1.099032 -2.772940 -1.097751   \n",
       "2  0.0  8.091552e+05  69777.0   5.380534 -1.099032 -2.899709 -1.097725   \n",
       "3  0.0  1.921438e+06  49018.5  15.886203 -1.099032 -2.510410 -1.091464   \n",
       "4  0.0  7.630845e+05  32067.0   5.330507 -1.099032 -2.450301 -1.092249   \n",
       "\n",
       "             7         8         9      ...             240           241  \\\n",
       "0 -328786.137266  2.240528  0.607492    ...        2.539329    800.640116   \n",
       "1 -579858.274504  2.113033  0.607492    ...       17.380295    812.549541   \n",
       "2 -138319.812285  1.817482  0.607492    ...     3008.242095  16471.960252   \n",
       "3 -127190.728187  1.706650  0.607492    ...     1132.362503   1795.945266   \n",
       "4 -254380.260729  1.698161  0.607492    ...      318.815205   7139.477267   \n",
       "\n",
       "           242            243        244        245           246  \\\n",
       "0   848.326176    2904.864436  -0.224464  -0.421161  1.892796e+00   \n",
       "1  1033.805807    3960.623529  -0.224464  -0.421161  1.892796e+00   \n",
       "2    12.893391  119160.204776 -10.160854 -34.748449  3.990768e+06   \n",
       "3    -1.375763   39691.060830  -5.567909 -13.033734  5.054815e+05   \n",
       "4  1580.849589   54068.689420   4.684680 -11.004122  6.468551e+07   \n",
       "\n",
       "            247        248       249  \n",
       "0     -0.360515  20.693998  1.143224  \n",
       "1     -0.360515  18.095747  0.444032  \n",
       "2 -10788.999922  13.514266 -2.122566  \n",
       "3  -4230.026748   5.190258 -0.107504  \n",
       "4    946.140700  48.092334 -0.293967  \n",
       "\n",
       "[5 rows x 250 columns]"
      ]
     },
     "execution_count": 60,
     "metadata": {},
     "output_type": "execute_result"
    }
   ],
   "source": [
    "scaler_rus_test = RobustScaler(with_centering=True, with_scaling=True, quantile_range=(25.0, 75.0), copy=True)\n",
    "scaler_rus_test.fit(test_rus_sel)\n",
    "test_rus_sel_scaled = scaler.transform(test_rus_sel)\n",
    "test_rus_sel_scaled = pd.DataFrame(test_rus_sel_scaled)\n",
    "test_rus_sel_scaled.head()"
   ]
  },
  {
   "cell_type": "markdown",
   "metadata": {},
   "source": [
    "# Model"
   ]
  },
  {
   "cell_type": "markdown",
   "metadata": {},
   "source": [
    "The model is taken from William Koehrsen's kernel and modified by me. LightGBM is very effective gradient boosting algorithm. It uses multiple tree based algorithms to improve prediction performance."
   ]
  },
  {
   "cell_type": "markdown",
   "metadata": {},
   "source": [
    "## LightGBM"
   ]
  },
  {
   "cell_type": "code",
   "execution_count": 61,
   "metadata": {
    "ExecuteTime": {
     "end_time": "2018-09-02T18:50:57.929875Z",
     "start_time": "2018-09-02T18:50:57.907264Z"
    }
   },
   "outputs": [],
   "source": [
    "from sklearn.model_selection import KFold\n",
    "from sklearn.metrics import roc_auc_score\n",
    "import lightgbm as lgb\n",
    "import gc"
   ]
  },
  {
   "cell_type": "code",
   "execution_count": 73,
   "metadata": {
    "ExecuteTime": {
     "end_time": "2018-09-02T19:21:05.123976Z",
     "start_time": "2018-09-02T19:21:05.094883Z"
    }
   },
   "outputs": [],
   "source": [
    "# Taken from William Koehrsen and modified.\n",
    "def model(features, test_features, encoding = 'ohe', n_folds = 5):\n",
    "    \n",
    "    \"\"\"Train and test a light gradient boosting model using\n",
    "    cross validation. \n",
    "    \n",
    "    Parameters\n",
    "    --------\n",
    "        features (pd.DataFrame): \n",
    "            dataframe of training features to use \n",
    "            for training a model. Must include the TARGET column.\n",
    "        test_features (pd.DataFrame): \n",
    "            dataframe of testing features to use\n",
    "            for making predictions with the model. \n",
    "        encoding (str, default = 'ohe'): \n",
    "            method for encoding categorical variables. Either 'ohe' for one-hot encoding or 'le' for integer label encoding\n",
    "            n_folds (int, default = 5): number of folds to use for cross validation\n",
    "        \n",
    "    Return\n",
    "    --------\n",
    "        submission (pd.DataFrame): \n",
    "            dataframe with `SK_ID_CURR` and `TARGET` probabilities\n",
    "            predicted by the model.\n",
    "        feature_importances (pd.DataFrame): \n",
    "            dataframe with the feature importances from the model.\n",
    "        valid_metrics (pd.DataFrame): \n",
    "            dataframe with training and validation metrics (ROC AUC) for each fold and overall.\n",
    "        \n",
    "    \"\"\"\n",
    "    \n",
    "    # Extract the ids\n",
    "    train_ids = features['SK_ID_CURR']\n",
    "    test_ids = test_features['SK_ID_CURR']\n",
    "    \n",
    "    # Extract the labels for training\n",
    "    labels = features['TARGET']\n",
    "    \n",
    "    # Remove the ids and target\n",
    "    features = features.drop(columns = ['SK_ID_CURR', 'TARGET'])\n",
    "    test_features = test_features.drop(columns = ['SK_ID_CURR'])\n",
    "    \n",
    "    \n",
    "    # One Hot Encoding\n",
    "    if encoding == 'ohe':\n",
    "        features = pd.get_dummies(features)\n",
    "        test_features = pd.get_dummies(test_features)\n",
    "        \n",
    "        # Align the dataframes by the columns\n",
    "        features, test_features = features.align(test_features, join = 'inner', axis = 1)\n",
    "        \n",
    "        # No categorical indices to record\n",
    "        cat_indices = 'auto'\n",
    "    \n",
    "    # Integer label encoding\n",
    "    elif encoding == 'le':\n",
    "        \n",
    "        # Create a label encoder\n",
    "        label_encoder = LabelEncoder()\n",
    "        \n",
    "        # List for storing categorical indices\n",
    "        cat_indices = []\n",
    "        \n",
    "        # Iterate through each column\n",
    "        for i, col in enumerate(features):\n",
    "            if features[col].dtype == 'object':\n",
    "                # Map the categorical features to integers\n",
    "                features[col] = label_encoder.fit_transform(np.array(features[col].astype(str)).reshape((-1,)))\n",
    "                test_features[col] = label_encoder.transform(np.array(test_features[col].astype(str)).reshape((-1,)))\n",
    "\n",
    "                # Record the categorical indices\n",
    "                cat_indices.append(i)\n",
    "    \n",
    "    # Catch error if label encoding scheme is not valid\n",
    "    else:\n",
    "        raise ValueError(\"Encoding must be either 'ohe' or 'le'\")\n",
    "        \n",
    "    print('Training Data Shape: ', features.shape)\n",
    "    print('Testing Data Shape: ', test_features.shape)\n",
    "    \n",
    "    # Extract feature names\n",
    "    feature_names = list(features.columns)\n",
    "    \n",
    "    # Convert to np arrays\n",
    "    features = np.array(features)\n",
    "    test_features = np.array(test_features)\n",
    "    \n",
    "    # Create the kfold object\n",
    "    k_fold = KFold(n_splits = n_folds, shuffle = True, random_state = 53)\n",
    "    \n",
    "    # Empty array for feature importances\n",
    "    feature_importance_values = np.zeros(len(feature_names))\n",
    "    \n",
    "    # Empty array for test predictions\n",
    "    test_predictions = np.zeros(test_features.shape[0])\n",
    "    \n",
    "    # Empty array for out of fold validation predictions\n",
    "    out_of_fold = np.zeros(features.shape[0])\n",
    "    \n",
    "    # Lists for recording validation and training scores\n",
    "    valid_scores = []\n",
    "    train_scores = []\n",
    "    \n",
    "    # Iterate through each fold\n",
    "    for train_indices, valid_indices in k_fold.split(features):\n",
    "        \n",
    "        # Training data for the fold\n",
    "        train_features, train_labels = features[train_indices], labels[train_indices]\n",
    "        # Validation data for the fold\n",
    "        valid_features, valid_labels = features[valid_indices], labels[valid_indices]\n",
    "        \n",
    "        # Create the model\n",
    "        model = lgb.LGBMClassifier(n_estimators=1000, objective = 'binary', \n",
    "                                   class_weight = 'balanced', learning_rate = 0.01, \n",
    "                                   reg_alpha = 0.1, reg_lambda = 0.1, \n",
    "                                   subsample = 0.8, n_jobs = -1, random_state = 50)\n",
    "        \n",
    "        # Train the model\n",
    "        model.fit(train_features, train_labels, eval_metric = 'auc',\n",
    "                  eval_set = [(valid_features, valid_labels), (train_features, train_labels)],\n",
    "                  eval_names = ['valid', 'train'], categorical_feature = cat_indices,\n",
    "                  early_stopping_rounds = 100, verbose = 200)\n",
    "        \n",
    "        # Record the best iteration\n",
    "        best_iteration = model.best_iteration_\n",
    "        \n",
    "        # Record the feature importances\n",
    "        feature_importance_values += model.feature_importances_ / k_fold.n_splits\n",
    "        \n",
    "        # Make predictions\n",
    "        test_predictions += model.predict_proba(test_features, num_iteration = best_iteration)[:, 1] / k_fold.n_splits\n",
    "        \n",
    "        # Record the out of fold predictions\n",
    "        out_of_fold[valid_indices] = model.predict_proba(valid_features, num_iteration = best_iteration)[:, 1]\n",
    "        \n",
    "        # Record the best score\n",
    "        valid_score = model.best_score_['valid']['auc']\n",
    "        train_score = model.best_score_['train']['auc']\n",
    "        \n",
    "        valid_scores.append(valid_score)\n",
    "        train_scores.append(train_score)\n",
    "        \n",
    "        # Clean up memory\n",
    "        gc.enable()\n",
    "        del model, train_features, valid_features\n",
    "        gc.collect()\n",
    "        \n",
    "    # Make the submission dataframe\n",
    "    submission = pd.DataFrame({'SK_ID_CURR': test_ids, 'TARGET': test_predictions})\n",
    "    \n",
    "    # Make the feature importance dataframe\n",
    "    feature_importances = pd.DataFrame({'feature': feature_names, 'importance': feature_importance_values})\n",
    "    \n",
    "    # Overall validation score\n",
    "    valid_auc = roc_auc_score(labels, out_of_fold)\n",
    "    \n",
    "    # Add the overall scores to the metrics\n",
    "    valid_scores.append(valid_auc)\n",
    "    train_scores.append(np.mean(train_scores))\n",
    "    \n",
    "    # Needed for creating dataframe of validation scores\n",
    "    fold_names = list(range(n_folds))\n",
    "    fold_names.append('overall')\n",
    "    \n",
    "    # Dataframe of validation scores\n",
    "    metrics = pd.DataFrame({'fold': fold_names,\n",
    "                            'train': train_scores,\n",
    "                            'valid': valid_scores}) \n",
    "    \n",
    "    return submission, feature_importances, metrics"
   ]
  },
  {
   "cell_type": "code",
   "execution_count": 63,
   "metadata": {
    "ExecuteTime": {
     "end_time": "2018-09-02T18:55:18.737240Z",
     "start_time": "2018-09-02T18:55:18.537744Z"
    }
   },
   "outputs": [],
   "source": [
    "training = train.copy()"
   ]
  },
  {
   "cell_type": "code",
   "execution_count": 64,
   "metadata": {
    "ExecuteTime": {
     "end_time": "2018-09-02T18:55:34.322380Z",
     "start_time": "2018-09-02T18:55:34.310169Z"
    }
   },
   "outputs": [],
   "source": [
    "training['TARGET'] = train_labels"
   ]
  },
  {
   "cell_type": "code",
   "execution_count": 65,
   "metadata": {
    "ExecuteTime": {
     "end_time": "2018-09-02T18:55:44.579449Z",
     "start_time": "2018-09-02T18:55:44.539663Z"
    }
   },
   "outputs": [
    {
     "data": {
      "text/html": [
       "<div>\n",
       "<style scoped>\n",
       "    .dataframe tbody tr th:only-of-type {\n",
       "        vertical-align: middle;\n",
       "    }\n",
       "\n",
       "    .dataframe tbody tr th {\n",
       "        vertical-align: top;\n",
       "    }\n",
       "\n",
       "    .dataframe thead th {\n",
       "        text-align: right;\n",
       "    }\n",
       "</style>\n",
       "<table border=\"1\" class=\"dataframe\">\n",
       "  <thead>\n",
       "    <tr style=\"text-align: right;\">\n",
       "      <th></th>\n",
       "      <th>SK_ID_CURR</th>\n",
       "      <th>NAME_CONTRACT_TYPE</th>\n",
       "      <th>FLAG_OWN_CAR</th>\n",
       "      <th>FLAG_OWN_REALTY</th>\n",
       "      <th>CNT_CHILDREN</th>\n",
       "      <th>AMT_INCOME_TOTAL</th>\n",
       "      <th>AMT_CREDIT</th>\n",
       "      <th>AMT_ANNUITY</th>\n",
       "      <th>AMT_GOODS_PRICE</th>\n",
       "      <th>REGION_POPULATION_RELATIVE</th>\n",
       "      <th>...</th>\n",
       "      <th>installments_AMT_PAYMENT-INSTALLMENT_max</th>\n",
       "      <th>installments_AMT_PAYMENT-INSTALLMENT_min</th>\n",
       "      <th>installments_AMT_PAYMENT-INSTALLMENT_var</th>\n",
       "      <th>installments_AMT_PAYMENT-INSTALLMENT_sum</th>\n",
       "      <th>installments_DAYS_PAYMENT-INSTALLMENT_mean</th>\n",
       "      <th>installments_DAYS_PAYMENT-INSTALLMENT_max</th>\n",
       "      <th>installments_DAYS_PAYMENT-INSTALLMENT_min</th>\n",
       "      <th>installments_DAYS_PAYMENT-INSTALLMENT_var</th>\n",
       "      <th>installments_DAYS_PAYMENT-INSTALLMENT_sum</th>\n",
       "      <th>TARGET</th>\n",
       "    </tr>\n",
       "  </thead>\n",
       "  <tbody>\n",
       "    <tr>\n",
       "      <th>0</th>\n",
       "      <td>100002</td>\n",
       "      <td>0</td>\n",
       "      <td>0</td>\n",
       "      <td>1</td>\n",
       "      <td>0</td>\n",
       "      <td>202500.0</td>\n",
       "      <td>406597.5</td>\n",
       "      <td>24700.5</td>\n",
       "      <td>351000.0</td>\n",
       "      <td>0.018801</td>\n",
       "      <td>...</td>\n",
       "      <td>0.0</td>\n",
       "      <td>0.000</td>\n",
       "      <td>0.000000e+00</td>\n",
       "      <td>0.000</td>\n",
       "      <td>-20.421053</td>\n",
       "      <td>-12.0</td>\n",
       "      <td>-31.0</td>\n",
       "      <td>24.257310</td>\n",
       "      <td>-388.0</td>\n",
       "      <td>1</td>\n",
       "    </tr>\n",
       "    <tr>\n",
       "      <th>1</th>\n",
       "      <td>100003</td>\n",
       "      <td>0</td>\n",
       "      <td>0</td>\n",
       "      <td>0</td>\n",
       "      <td>0</td>\n",
       "      <td>270000.0</td>\n",
       "      <td>1293502.5</td>\n",
       "      <td>35698.5</td>\n",
       "      <td>1129500.0</td>\n",
       "      <td>0.003541</td>\n",
       "      <td>...</td>\n",
       "      <td>0.0</td>\n",
       "      <td>0.000</td>\n",
       "      <td>0.000000e+00</td>\n",
       "      <td>0.000</td>\n",
       "      <td>-7.160000</td>\n",
       "      <td>-1.0</td>\n",
       "      <td>-14.0</td>\n",
       "      <td>13.890000</td>\n",
       "      <td>-179.0</td>\n",
       "      <td>0</td>\n",
       "    </tr>\n",
       "    <tr>\n",
       "      <th>2</th>\n",
       "      <td>100004</td>\n",
       "      <td>1</td>\n",
       "      <td>1</td>\n",
       "      <td>1</td>\n",
       "      <td>0</td>\n",
       "      <td>67500.0</td>\n",
       "      <td>135000.0</td>\n",
       "      <td>6750.0</td>\n",
       "      <td>135000.0</td>\n",
       "      <td>0.010032</td>\n",
       "      <td>...</td>\n",
       "      <td>0.0</td>\n",
       "      <td>0.000</td>\n",
       "      <td>0.000000e+00</td>\n",
       "      <td>0.000</td>\n",
       "      <td>-7.666667</td>\n",
       "      <td>-3.0</td>\n",
       "      <td>-11.0</td>\n",
       "      <td>17.333333</td>\n",
       "      <td>-23.0</td>\n",
       "      <td>0</td>\n",
       "    </tr>\n",
       "    <tr>\n",
       "      <th>3</th>\n",
       "      <td>100006</td>\n",
       "      <td>0</td>\n",
       "      <td>0</td>\n",
       "      <td>1</td>\n",
       "      <td>0</td>\n",
       "      <td>135000.0</td>\n",
       "      <td>312682.5</td>\n",
       "      <td>29686.5</td>\n",
       "      <td>297000.0</td>\n",
       "      <td>0.008019</td>\n",
       "      <td>...</td>\n",
       "      <td>NaN</td>\n",
       "      <td>NaN</td>\n",
       "      <td>NaN</td>\n",
       "      <td>NaN</td>\n",
       "      <td>NaN</td>\n",
       "      <td>NaN</td>\n",
       "      <td>NaN</td>\n",
       "      <td>NaN</td>\n",
       "      <td>NaN</td>\n",
       "      <td>0</td>\n",
       "    </tr>\n",
       "    <tr>\n",
       "      <th>4</th>\n",
       "      <td>100007</td>\n",
       "      <td>0</td>\n",
       "      <td>0</td>\n",
       "      <td>1</td>\n",
       "      <td>0</td>\n",
       "      <td>121500.0</td>\n",
       "      <td>513000.0</td>\n",
       "      <td>21865.5</td>\n",
       "      <td>513000.0</td>\n",
       "      <td>0.028663</td>\n",
       "      <td>...</td>\n",
       "      <td>0.0</td>\n",
       "      <td>-22655.655</td>\n",
       "      <td>8.084830e+06</td>\n",
       "      <td>-29857.365</td>\n",
       "      <td>-3.636364</td>\n",
       "      <td>12.0</td>\n",
       "      <td>-31.0</td>\n",
       "      <td>63.865734</td>\n",
       "      <td>-240.0</td>\n",
       "      <td>0</td>\n",
       "    </tr>\n",
       "  </tbody>\n",
       "</table>\n",
       "<p>5 rows × 714 columns</p>\n",
       "</div>"
      ],
      "text/plain": [
       "   SK_ID_CURR  NAME_CONTRACT_TYPE  FLAG_OWN_CAR  FLAG_OWN_REALTY  \\\n",
       "0      100002                   0             0                1   \n",
       "1      100003                   0             0                0   \n",
       "2      100004                   1             1                1   \n",
       "3      100006                   0             0                1   \n",
       "4      100007                   0             0                1   \n",
       "\n",
       "   CNT_CHILDREN  AMT_INCOME_TOTAL  AMT_CREDIT  AMT_ANNUITY  AMT_GOODS_PRICE  \\\n",
       "0             0          202500.0    406597.5      24700.5         351000.0   \n",
       "1             0          270000.0   1293502.5      35698.5        1129500.0   \n",
       "2             0           67500.0    135000.0       6750.0         135000.0   \n",
       "3             0          135000.0    312682.5      29686.5         297000.0   \n",
       "4             0          121500.0    513000.0      21865.5         513000.0   \n",
       "\n",
       "   REGION_POPULATION_RELATIVE   ...    \\\n",
       "0                    0.018801   ...     \n",
       "1                    0.003541   ...     \n",
       "2                    0.010032   ...     \n",
       "3                    0.008019   ...     \n",
       "4                    0.028663   ...     \n",
       "\n",
       "   installments_AMT_PAYMENT-INSTALLMENT_max  \\\n",
       "0                                       0.0   \n",
       "1                                       0.0   \n",
       "2                                       0.0   \n",
       "3                                       NaN   \n",
       "4                                       0.0   \n",
       "\n",
       "   installments_AMT_PAYMENT-INSTALLMENT_min  \\\n",
       "0                                     0.000   \n",
       "1                                     0.000   \n",
       "2                                     0.000   \n",
       "3                                       NaN   \n",
       "4                                -22655.655   \n",
       "\n",
       "   installments_AMT_PAYMENT-INSTALLMENT_var  \\\n",
       "0                              0.000000e+00   \n",
       "1                              0.000000e+00   \n",
       "2                              0.000000e+00   \n",
       "3                                       NaN   \n",
       "4                              8.084830e+06   \n",
       "\n",
       "   installments_AMT_PAYMENT-INSTALLMENT_sum  \\\n",
       "0                                     0.000   \n",
       "1                                     0.000   \n",
       "2                                     0.000   \n",
       "3                                       NaN   \n",
       "4                                -29857.365   \n",
       "\n",
       "   installments_DAYS_PAYMENT-INSTALLMENT_mean  \\\n",
       "0                                  -20.421053   \n",
       "1                                   -7.160000   \n",
       "2                                   -7.666667   \n",
       "3                                         NaN   \n",
       "4                                   -3.636364   \n",
       "\n",
       "   installments_DAYS_PAYMENT-INSTALLMENT_max  \\\n",
       "0                                      -12.0   \n",
       "1                                       -1.0   \n",
       "2                                       -3.0   \n",
       "3                                        NaN   \n",
       "4                                       12.0   \n",
       "\n",
       "   installments_DAYS_PAYMENT-INSTALLMENT_min  \\\n",
       "0                                      -31.0   \n",
       "1                                      -14.0   \n",
       "2                                      -11.0   \n",
       "3                                        NaN   \n",
       "4                                      -31.0   \n",
       "\n",
       "   installments_DAYS_PAYMENT-INSTALLMENT_var  \\\n",
       "0                                  24.257310   \n",
       "1                                  13.890000   \n",
       "2                                  17.333333   \n",
       "3                                        NaN   \n",
       "4                                  63.865734   \n",
       "\n",
       "   installments_DAYS_PAYMENT-INSTALLMENT_sum  TARGET  \n",
       "0                                     -388.0       1  \n",
       "1                                     -179.0       0  \n",
       "2                                      -23.0       0  \n",
       "3                                        NaN       0  \n",
       "4                                     -240.0       0  \n",
       "\n",
       "[5 rows x 714 columns]"
      ]
     },
     "execution_count": 65,
     "metadata": {},
     "output_type": "execute_result"
    }
   ],
   "source": [
    "training.head()"
   ]
  },
  {
   "cell_type": "code",
   "execution_count": 74,
   "metadata": {
    "ExecuteTime": {
     "end_time": "2018-09-02T19:35:42.951379Z",
     "start_time": "2018-09-02T19:21:08.212290Z"
    }
   },
   "outputs": [
    {
     "name": "stdout",
     "output_type": "stream",
     "text": [
      "Training Data Shape:  (307511, 712)\n",
      "Testing Data Shape:  (48744, 712)\n",
      "Training until validation scores don't improve for 100 rounds.\n",
      "[200]\tvalid's auc: 0.75122\ttrain's auc: 0.766551\n",
      "[400]\tvalid's auc: 0.765396\ttrain's auc: 0.790797\n",
      "[600]\tvalid's auc: 0.771696\ttrain's auc: 0.805451\n",
      "[800]\tvalid's auc: 0.774912\ttrain's auc: 0.816571\n",
      "[1000]\tvalid's auc: 0.776506\ttrain's auc: 0.826096\n",
      "Did not meet early stopping. Best iteration is:\n",
      "[1000]\tvalid's auc: 0.776506\ttrain's auc: 0.826096\n",
      "Training until validation scores don't improve for 100 rounds.\n",
      "[200]\tvalid's auc: 0.749326\ttrain's auc: 0.766552\n",
      "[400]\tvalid's auc: 0.764549\ttrain's auc: 0.790716\n",
      "[600]\tvalid's auc: 0.771273\ttrain's auc: 0.805214\n",
      "[800]\tvalid's auc: 0.774463\ttrain's auc: 0.816369\n",
      "[1000]\tvalid's auc: 0.775991\ttrain's auc: 0.825956\n",
      "Did not meet early stopping. Best iteration is:\n",
      "[998]\tvalid's auc: 0.775992\ttrain's auc: 0.825879\n",
      "Training until validation scores don't improve for 100 rounds.\n",
      "[200]\tvalid's auc: 0.74608\ttrain's auc: 0.766655\n",
      "[400]\tvalid's auc: 0.762894\ttrain's auc: 0.790945\n",
      "[600]\tvalid's auc: 0.770398\ttrain's auc: 0.805516\n",
      "[800]\tvalid's auc: 0.774148\ttrain's auc: 0.816708\n",
      "[1000]\tvalid's auc: 0.775626\ttrain's auc: 0.826147\n",
      "Did not meet early stopping. Best iteration is:\n",
      "[1000]\tvalid's auc: 0.775626\ttrain's auc: 0.826147\n",
      "Training until validation scores don't improve for 100 rounds.\n",
      "[200]\tvalid's auc: 0.753252\ttrain's auc: 0.76551\n",
      "[400]\tvalid's auc: 0.769097\ttrain's auc: 0.78974\n",
      "[600]\tvalid's auc: 0.776251\ttrain's auc: 0.804373\n",
      "[800]\tvalid's auc: 0.779486\ttrain's auc: 0.815644\n",
      "[1000]\tvalid's auc: 0.780725\ttrain's auc: 0.825303\n",
      "Did not meet early stopping. Best iteration is:\n",
      "[999]\tvalid's auc: 0.78073\ttrain's auc: 0.82526\n",
      "Training until validation scores don't improve for 100 rounds.\n",
      "[200]\tvalid's auc: 0.750148\ttrain's auc: 0.766049\n",
      "[400]\tvalid's auc: 0.765267\ttrain's auc: 0.790198\n",
      "[600]\tvalid's auc: 0.771902\ttrain's auc: 0.805068\n",
      "[800]\tvalid's auc: 0.775005\ttrain's auc: 0.816272\n",
      "[1000]\tvalid's auc: 0.776404\ttrain's auc: 0.825923\n",
      "Did not meet early stopping. Best iteration is:\n",
      "[1000]\tvalid's auc: 0.776404\ttrain's auc: 0.825923\n",
      "Baseline metrics\n",
      "      fold     train     valid\n",
      "0        0  0.826096  0.776506\n",
      "1        1  0.825879  0.775992\n",
      "2        2  0.826147  0.775626\n",
      "3        3  0.825260  0.780730\n",
      "4        4  0.825923  0.776404\n",
      "5  overall  0.825861  0.777047\n"
     ]
    }
   ],
   "source": [
    "submission, fi, metrics = model(training, test)\n",
    "print('Baseline metrics')\n",
    "print(metrics)"
   ]
  },
  {
   "cell_type": "markdown",
   "metadata": {},
   "source": [
    "As it can be seen on performance of the model, trainin performance is better than validation performance. Training performance is about the how well the model learned the training data. Validation performance is how well the model performns on unseen testing data. Because of training performance is better than testing performance, we can say that our model overfits the data a bit. With hyperparameter tuning, we can reach better performance and try to avoid overfitting training data. "
   ]
  },
  {
   "cell_type": "code",
   "execution_count": 75,
   "metadata": {
    "ExecuteTime": {
     "end_time": "2018-09-02T19:36:08.231711Z",
     "start_time": "2018-09-02T19:36:08.005977Z"
    }
   },
   "outputs": [],
   "source": [
    "submission.to_csv('raw_lgb.csv', index = False)"
   ]
  },
  {
   "cell_type": "code",
   "execution_count": null,
   "metadata": {},
   "outputs": [],
   "source": []
  }
 ],
 "metadata": {
  "kernelspec": {
   "display_name": "Python [conda env:tekkredi]",
   "language": "python",
   "name": "conda-env-tekkredi-py"
  },
  "language_info": {
   "codemirror_mode": {
    "name": "ipython",
    "version": 3
   },
   "file_extension": ".py",
   "mimetype": "text/x-python",
   "name": "python",
   "nbconvert_exporter": "python",
   "pygments_lexer": "ipython3",
   "version": "3.6.5"
  },
  "toc": {
   "base_numbering": 1,
   "nav_menu": {},
   "number_sections": true,
   "sideBar": true,
   "skip_h1_title": false,
   "title_cell": "Table of Contents",
   "title_sidebar": "Contents",
   "toc_cell": false,
   "toc_position": {},
   "toc_section_display": true,
   "toc_window_display": false
  },
  "varInspector": {
   "cols": {
    "lenName": 16,
    "lenType": 16,
    "lenVar": 40
   },
   "kernels_config": {
    "python": {
     "delete_cmd_postfix": "",
     "delete_cmd_prefix": "del ",
     "library": "var_list.py",
     "varRefreshCmd": "print(var_dic_list())"
    },
    "r": {
     "delete_cmd_postfix": ") ",
     "delete_cmd_prefix": "rm(",
     "library": "var_list.r",
     "varRefreshCmd": "cat(var_dic_list()) "
    }
   },
   "types_to_exclude": [
    "module",
    "function",
    "builtin_function_or_method",
    "instance",
    "_Feature"
   ],
   "window_display": false
  }
 },
 "nbformat": 4,
 "nbformat_minor": 2
}
